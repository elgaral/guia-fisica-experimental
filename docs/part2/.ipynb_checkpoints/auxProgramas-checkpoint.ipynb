{
 "cells": [
  {
   "cell_type": "markdown",
   "id": "0f2b2920-d62a-4f72-8169-f614dd6418f0",
   "metadata": {},
   "source": [
    "### Gráfica sección Estimación Incertidumbre"
   ]
  },
  {
   "cell_type": "code",
   "execution_count": 9,
   "id": "b499ead5-9575-499b-8a66-a0b151e9de92",
   "metadata": {},
   "outputs": [
    {
     "name": "stdout",
     "output_type": "stream",
     "text": [
      "t_mean 0.48571428571428577\n",
      "t_diff 0.09000000000000002\n",
      "t_e 0.06000000000000002\n",
      "115.57027428571432\n",
      "145.88647668571434\n",
      "88.78116468571432\n"
     ]
    }
   ],
   "source": [
    "import numpy as np\n",
    "g = 979.748\n",
    "t = np.array([44,53,47,47,46,50,53])/100\n",
    "t_mean = np.mean(t)\n",
    "print('t_mean',t_mean)\n",
    "t_diff = np.max(t)-np.min(t)\n",
    "print('t_diff',t_diff)\n",
    "t_e = 2*t_diff/3\n",
    "print('t_e',t_e)\n",
    "\n",
    "\n",
    "print(0.5*g*t_mean**2)\n",
    "print(0.5*g*(t_mean+t_e)**2)\n",
    "print(0.5*g*(t_mean-t_e)**2)"
   ]
  },
  {
   "cell_type": "code",
   "execution_count": 17,
   "id": "6b2bc70d-c8b7-40d7-a018-66bf3c851a0a",
   "metadata": {},
   "outputs": [
    {
     "data": {
      "image/png": "[encoded data removed]",
      "text/plain": [
       "<Figure size 576x72 with 1 Axes>"
      ]
     },
     "metadata": {
      "needs_background": "light"
     },
     "output_type": "display_data"
    }
   ],
   "source": [
    "import matplotlib.pyplot as plt\n",
    "\n",
    "fig, (ax1) = plt.subplots(1,1,figsize=(8,1))\n",
    "\n",
    "data = np.copy(t)\n",
    "eje = np.zeros(len(data))\n",
    "ax1.plot(data,eje,'r|',ms=10)\n",
    "ax1.set(yticklabels=[])  # remove the tick labels\n",
    "ax1.tick_params(left=False)  # remove the ticks\n",
    "ax1.set_xlabel('t/s',fontsize=18)\n",
    "ax1.set_xlim(0.3,0.7)\n",
    "#ax1.set_ylim(-1,1)\n",
    "\n",
    "# use set_position\n",
    "ax1.spines['top'].set_color('none')\n",
    "ax1.spines['left'].set_color('none')\n",
    "ax1.spines['right'].set_color('none')\n",
    "ax1.spines['bottom'].set_position('zero')\n",
    "\n",
    "plt.savefig('imagenes/ejemplo-estIncertibumbre.png')\n",
    "plt.show()"
   ]
  },
  {
   "cell_type": "markdown",
   "id": "69d49182-c094-44d1-afec-49c7d224f32b",
   "metadata": {},
   "source": [
    "## Ejemplo sección Variable indirecta"
   ]
  },
  {
   "cell_type": "code",
   "execution_count": 16,
   "id": "42de0b4c-c3d8-43a8-9008-5e35ee4b5f5b",
   "metadata": {},
   "outputs": [
    {
     "name": "stdout",
     "output_type": "stream",
     "text": [
      "Todas las posibilidades en g/cm^3\n",
      "[54.67456580834538, 54.89370234465137, 45.665568801722664, 45.848597133593294]\n",
      "Densidad máxima 54.89370234465137 y densidad mínima       45.665568801722664\n",
      "\n",
      "Con valores extremos:\n",
      "Densidad máxima 45.848597133593294 y densidad mínima       54.67456580834538\n",
      "Diferencia porcentual\n",
      "Dif máximos 0.4008016032064171 y dif mínimos       0.39920159680638456\n",
      "\n",
      "Usando la propagación de errores:\n",
      "Densidad máxima 54.50111097397076 y densidad mínima       45.49888902602924\n",
      "Diferencia porcentual\n"
     ]
    }
   ],
   "source": [
    "import numpy as np\n",
    "L = 1.00 # cm\n",
    "eL = 0.03\n",
    "Ls = np.array([L-eL,L+eL])\n",
    "m = 50.0 # gramos\n",
    "em = 0.1\n",
    "ms = np.array([m-em,m+em])\n",
    "\n",
    "# todas las posibilidades\n",
    "rhos = []\n",
    "for l1 in Ls:\n",
    "    for m1 in ms:\n",
    "            auxrho = m1/l1**3\n",
    "            rhos.append(auxrho)\n",
    "print('Todas las posibilidades en g/cm^3')\n",
    "print(rhos)\n",
    "print('Densidad máxima {} y densidad mínima \\\n",
    "      {}'.format(np.max(rhos),np.min(rhos)))\n",
    "\n",
    "\n",
    "print('\\nCon valores extremos:')\n",
    "rhoM = (m+em)/(L+eL)**3\n",
    "rhom = (m-em)/(L-eL)**3\n",
    "print('Densidad máxima {} y densidad mínima \\\n",
    "      {}'.format(rhoM,rhom))\n",
    "\n",
    "print('#Diferencia porcentual')\n",
    "difmin = abs(np.min(rhos)-rhoM)/rhoM*100\n",
    "difmax = abs(np.max(rhos)-rhom)/rhom*100\n",
    "print('Dif máximos {} y dif mínimos \\\n",
    "      {}'.format(difmax,difmin))\n",
    "\n",
    "print('\\nUsando la propagación de errores:')\n",
    "erho2rel = (em/m)**2 + 9*(eL/L)**2\n",
    "rho = m/L**3\n",
    "erho = rho*np.sqrt(erho2rel)\n",
    "print('Densidad máxima {} y densidad mínima \\\n",
    "      {}'.format(rho+erho,rho-erho))\n",
    "\n",
    "print('Diferencia porcentual')"
   ]
  },
  {
   "cell_type": "markdown",
   "id": "6af78b8c-8154-4771-8e88-872e8c52c05f",
   "metadata": {},
   "source": [
    "**Conclusión**: \n",
    "cada técnica arroja límites distintos, no obstante las diferencias son mínimas. Por ejemplo para el caso de mirar todas las posibilidades y mirar solo los extremos la diferencia fue inferior al 1 %. Se concluye que por practicidad se usará la técnica de los extremos."
   ]
  },
  {
   "cell_type": "code",
   "execution_count": null,
   "id": "ab8c06b7-80af-4e6d-8a75-f7763b517bcd",
   "metadata": {},
   "outputs": [],
   "source": []
  }
 ],
 "metadata": {
  "kernelspec": {
   "display_name": "Python 3 (ipykernel)",
   "language": "python",
   "name": "python3"
  },
  "language_info": {
   "codemirror_mode": {
    "name": "ipython",
    "version": 3
   },
   "file_extension": ".py",
   "mimetype": "text/x-python",
   "name": "python",
   "nbconvert_exporter": "python",
   "pygments_lexer": "ipython3",
   "version": "3.10.4"
  }
 },
 "nbformat": 4,
 "nbformat_minor": 5
}
