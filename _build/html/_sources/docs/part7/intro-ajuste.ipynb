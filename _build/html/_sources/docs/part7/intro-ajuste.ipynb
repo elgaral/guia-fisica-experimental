{
 "cells": [
  {
   "cell_type": "markdown",
   "id": "6f474841",
   "metadata": {},
   "source": [
    "(sec-ajusteDatos)=\n",
    "# Método de ajuste de datos\n",
    "\n",
    "```{figure} imagenes/bola4.png\n",
    ":figclass: margin\n",
    "```\n",
    "\n",
    "En esta sección se estipularán las bases matemáticas y estadísticas para las expresiones presentadas en la {numref}`sec-ajusteLineal`, que permitieron ajustar unos datos experimentales a una línea de pendiente $m$ e intercepto $c$. Posteriormente, se darán herramientas computacionales para ajustar datos experimentales a curvas nolineales. Finalmente, se presentarán los conceptos de interpolación, extrapolación.\n",
    "\n",
    "El contenido de la sección sera:\n",
    "\n",
    "```{tableofcontents}\n",
    "```"
   ]
  }
 ],
 "metadata": {
  "jupytext": {
   "text_representation": {
    "extension": ".md",
    "format_name": "myst",
    "format_version": 0.13,
    "jupytext_version": "1.14.0"
   }
  },
  "kernelspec": {
   "display_name": "Python 3 (ipykernel)",
   "language": "python",
   "name": "python3"
  },
  "source_map": [
   12
  ]
 },
 "nbformat": 4,
 "nbformat_minor": 5
}