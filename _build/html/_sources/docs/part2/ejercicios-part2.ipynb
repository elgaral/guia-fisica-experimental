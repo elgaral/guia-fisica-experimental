{
 "cells": [
  {
   "cell_type": "markdown",
   "id": "34eef935",
   "metadata": {},
   "source": [
    "(sec-ejerciciosV1P2)=\n",
    "# Ejercicios\n",
    "\n",
    "**Incertidumbres aleatorias y sistemáticas, precisión y exactitud**\n",
    "\n",
    "**1**. Indique si las siguientes incertidumbres son sistemáticas, aleatorias, o si se trata simplemente de una equivocación: **(a)** en el cálculo de una variable indirecta usar una constante cuyo valor es inferior al valor real de la misma, **(b)** no incluir el efecto de la fricción en un experimento donde hay un deslizamiento, **(c)** utilizar las unidades incorrectas en el cálculo de una variable indirecta, **(d)** medir la temperatura con un termómetro que está descalibrado, **(e)** olvidar elevar a una potencia un término en la expresión para el cáculo de una variable indirecta.\n",
    "\n",
    "**2** En un experimento un estudiante realiza 10 medidas de una cantidad física. Cuando determina la incertidumbre relativa se da cuenta que es mayor del $30 \\,\\%$, y además le indican que usó un instrumento de medida que está descalibrado. Sólo tiene tiempo para realizar 10 medidas más por lo que debe tomar una decisión: completar 20 medidas con el instrumento descalibrado y lograr una incertidumbre relativa del orden de $20 \\, \\%$ ó tomar 10 medidas con el instrumento calibrado y mantener la incertidumbre relativa actual. Cuál es la decisión más adecuada si el error relativo generado por la descalibración es **(a)** mucho menor al $20 \\,\\%$, **(b)** es mayor al $30 \\,\\%$, **(c)** es del orden del $30 \\,\\%$.\n",
    "\n",
    "**3** Tomando como valor aceptado para la aceleración de la gravedad en la ciudad de Medellín el valor $977 \\,\\text{cm/s}^2$, para los siguientes resultados experimentales indique si son precisos, imprecisos, exactos o inexactos: **(a)** $(980 \\pm 50) \\,\\text{cm/s}^2$, **(b)** $(995 \\pm 5) \\,\\text{cm/s}^2$, **(c)** $(980 \\pm 10) \\,\\text{cm/s}^2$, **(d)** $(971 \\pm 2) \\,\\text{cm/s}^2$, **(e)** $(979 \\pm 5) \\,\\text{cm/s}^2$, **(f)** $(1100 \\pm 200) \\,\\text{cm/s}^2$.\n",
    "\n",
    "\n",
    "**Estimación de la incertidumbre, de la incertidumbre de una única medida y de la incertidumbre relativa**\n",
    "\n",
    "**4**. Se le pide mantener la temperatura de un cuarto a $26 \\,°\\text{C}$ con una variación inferior al $1 \\,\\%$. Usando un termómetro disponible los valores de temperatura que registra son, en grados centígrados: 26.45, 26.42, 26.40, 26.48, 26.50, 26.45 y 26.22. **(a)** Determine cuál es el rango de temperaturas aceptado. **(b)** Determine el valor más probable de temperatura con su incertidumbre. **(c)** Determine la incertidumbre relativa de su medida y opine sobre su precisión. **(d)** Teniendo en cuenta la precisión de su medida, ¿la temperatura está dentro del rango requerido? **(e)** Si la variación permitida es del $5 \\,\\%$ ¿qué puede decir?\n",
    "\n",
    "**5**. Usted quiere saber en qué porcentaje ha variado el volumen de una esfera de titanio usada para calibrar. Lo primero que necesita saber es el coeficiente de expansión térmico lineal del titanio usando un instrumento especial. El instrumento le entrega en pantalla el valor $8.4\\times 10^{-6} \\, \\text{K}^{-1}$. **(a)** ¿Cuál es la incertidumbre del valor medido?, **(b)** ¿cuál es la incertidumbre relativa?\n",
    "\n",
    "**Estimación de la incertidumbre de una medida indirecta**\n",
    "\n",
    "**6**. Con el dato de la temperatura y de la expansión lineal del titanio, ahora puede determinar en qué porcentaje aumentó el volumen de la esfera. **(a)** Mida primero el coeficiente de expansión térmica volumétrica usando la siguiente relación: $\\alpha_V = 3\\alpha_L$, donde $\\alpha_L$ es el coeficiente lineal. **(b)** Determine cuál fue el cambio en la temperatura con respecto al valor pedido, es decir, $26 \\,°\\text{C}$. **(c)** use la expresión $\\Delta V = \\alpha_V V_0 \\Delta T$ para determinar el porcentaje de expansión del volumen con su respectiva incertidumbre. $\\Delta V$ es el cambio en el volumen, $V_0$ es el volumen a la temperatura pedida y $\\Delta T$ es el cambio en la temperatura. **(d)** Para confirmar la validez de la incertidumbre obtenida con el procedimiento propuesto en la {numref}`subsec-errorIndirecta` calcule la razón con los demás combinaciones posibles y determine la mayor incertidumbre posible. Compare con la incertidumbre del punto (c)."
   ]
  }
 ],
 "metadata": {
  "jupytext": {
   "text_representation": {
    "extension": ".md",
    "format_name": "myst",
    "format_version": 0.13,
    "jupytext_version": "1.14.0"
   }
  },
  "kernelspec": {
   "display_name": "Python 3 (ipykernel)",
   "language": "python",
   "name": "python3"
  },
  "source_map": [
   12
  ]
 },
 "nbformat": 4,
 "nbformat_minor": 5
}