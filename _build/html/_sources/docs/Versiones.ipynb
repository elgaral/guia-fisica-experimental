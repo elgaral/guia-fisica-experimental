{
 "cells": [
  {
   "cell_type": "markdown",
   "id": "8b935455",
   "metadata": {},
   "source": [
    "(sec-Versiones)=\n",
    "# Versiones: actualizaciones y correcciones\n",
    "\n",
    "\n",
    "**0.0.0**: mayo 16, 2023: Entregada como trabajo del sabático.\n",
    "\n",
    "---\n",
    "**0.1.0**: julio 4, 2023: Se tienen en cuenta los comentarios de Carlos Parra para el volumen 2.\n",
    "    \n",
    "IntervaloConfianza.md: Se incluye una aclaración sobre la interpretación del intervalo de confianza.\n",
    "                       Se incluye un ejemplo sobre el Boson de Higgs.\n",
    "\n",
    "---\n",
    "**0.1.1**: julio 11, 2023: \n",
    "\n",
    "intro.md: se hacen correcciones de redacción y ortografía.\n",
    "\n",
    "---\n",
    "**0.1.2**: julio 14, 2023:\n",
    "\n",
    "dist-binomial.md: se cambian todas las figuras a formato PNG. Ahora recuerdo que debe ser EPS o PNG para la versión PDF del libro, y puede ser SVG o PNG para la versión html.\n",
    "    \n",
    "experimentos.md: se corrige \\ohm por \\Omega.\n",
    "\n",
    "---\n",
    "**0.1.3**:agosto 1, 2023:\n",
    "\n",
    "incertidumbre-unamedida.md: se corrige el reporte del resultado en la sección de escala análoga.\n",
    "\n",
    "---\n",
    "**0.1.4**: agosto 8, 2023:\n",
    "\n",
    "DistPoisson.md: se corrige el valor de probabilidad 0.17 por 0.0017. Correcciones de tipografía.\n",
    "\n",
    "dist-binomial.md: en definición fpm, en el demonimador el factorial va por fuera del paréntesis.\n",
    "\n",
    "teoremaLC.md: corrección segunda agrupación de datos. Estaba 10, realmente es 30.\n",
    "\n",
    "justificacion-media.md: se incluye en las expresiones de 6.3.3 el infinitesimal dx.\n",
    "\n",
    "propagacionError.md: corrección de redacción.\n",
    "\n",
    "esta-def.md: corrección explicación significado \"exacta\".\n",
    "\n",
    "---\n",
    "**0.1.5**: agosto 17, 2023:\n",
    "t-student.md: se corrige que la varianza de las variables aleatorias es sigma cuadrado.\n",
    "\n",
    "minimosCuad.md: se corrige la ec. 7.16: faltaba un w_i dentro de la sumatoria.\n",
    "\n",
    "---\n",
    "**0.1.6**: agosto 22, 2023:\n",
    "Versiones.md: aclaración en la advertencia de la sección 2.2.3 sobre los símbolos usados para hablar de media y desviación estándar.\n",
    "\n",
    "t-student.md: En el ejemplo de la sección 8.5 el valor corrector es $t_{0.32,6} = 1.084$. Se aclara en la sección 8.5.1 que la t-student tiende a la distribución normal tipificada.\n",
    "\n",
    "propagaciónError.md: correcciones de ortografía. En la sección 6.5 es f(x_0 + \\Delta x)\n",
    "\n",
    "---\n",
    "**0.2.0**: agosto 22, 2023:\n",
    "propagacionError.md: se hace una actualización importante para usar el mismo procedimiento funcional para la determinación de la propagación de la incertidumbre en el caso de varias variables. Se cambió el orden presentando primero las aproximaciones pequeñas, luego la tabla, y por último la aproximación funcional análoga a la propuesta por Hughes and Hase y Lyons.\n",
    "\n",
    "---\n",
    "**0.2.1**: enero 24, 2023:\n",
    "dist-binomial.md: se mejora la redacción."
   ]
  }
 ],
 "metadata": {
  "jupytext": {
   "text_representation": {
    "extension": ".md",
    "format_name": "myst",
    "format_version": 0.13,
    "jupytext_version": "1.14.0"
   }
  },
  "kernelspec": {
   "display_name": "Python 3 (ipykernel)",
   "language": "python",
   "name": "python3"
  },
  "source_map": [
   12
  ]
 },
 "nbformat": 4,
 "nbformat_minor": 5
}