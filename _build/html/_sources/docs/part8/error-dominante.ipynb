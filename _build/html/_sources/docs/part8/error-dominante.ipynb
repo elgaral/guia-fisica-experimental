{
 "cells": [
  {
   "cell_type": "markdown",
   "id": "5a315a4a",
   "metadata": {},
   "source": [
    "(sec-errorDominante)=\n",
    "# Incertidumbre dominante\n",
    "\n",
    "En el ejemplo de la {numref}`subsec-errorPequeno` la expresión para calcular la incertidumbre de la densidad era\n",
    "\n",
    "$$ \\alpha_{\\rho} = \\rho \\Bigg[ \\bigg(\\frac{\\alpha_m}{m}\\bigg)^2 + \\bigg(\\frac{3\\alpha_L}{L}\\bigg)^2 \\Bigg]^{1/2} = \\big(28.935\\,\\text{g/cm}^3\\big) \\Bigg[ \\bigg(\\frac{0.1}{50.0}\\bigg)^2 + 9\\bigg(\\frac{0.03}{1.20}\\bigg)^2 \\Bigg]^{1/2}  = 2.1709\\,\\text{g}\\text{/cm}^3  ,$$\n",
    "\n",
    "obtiendo una incertidumbre igual a $\\alpha_{\\rho} = 2\\,\\text{g}\\text{/cm}^3$.\n",
    "\n",
    "No obstante, si analizamos las incertidumbres relativas de la masa, $\\frac{\\alpha_m}{m} = 0.002$, y la longitud, $\\frac{\\alpha_L}{L} = 0.025$, se observa que la incertidumbre relativa de la longitud es un orden de magnitud superior a la incertidumbre relativa de la masa. Además, como en la expresión para la densidad, la longitud se presenta elevada al cubo, en el cálculo de la incertidumbre de la densidad, la incertidumbre relativa de la longitud se incrementa por un factor de tres. Por lo tanto, para este caso, la incertidumbre de la masa es despreciable, el valor de la masa se puede tomar como exacto, y la expresión para determinar la incertidumbre de la densidad se reduce a\n",
    "\n",
    "$$ \\alpha_{\\rho} = \\rho \\bigg(3\\frac{\\alpha_L}{L}\\bigg) = \\big(28.935\\,\\text{g/cm}^3\\big) \\bigg(\\frac{3\\times 0.03}{1.20}\\bigg) = 2.1701\\,\\text{g}\\text{/cm}^3  ,$$\n",
    "\n",
    "obtiendo una incertidumbre igual a $\\alpha_{\\rho} = 2\\,\\text{g}\\text{/cm}^3$, ¡el mismo valor!\n",
    "\n",
    "Se puede concluir que un análisis de la función matemática que relaciona la variable dependiente con las independientes, y de las incertidumbres relativas de cada variable independiente, permite identificar posibles incertidumbres dominantes, que faciliten el cálculo de la incertidumbre de la variable dependiente.\n",
    "\n",
    "Identificar incertidumbres dominantes también puede llevar a la conclusión de que la incertidumbre de una variable dependiente que no sea dominante, se puede medir de forma aproximada, sin hacer mucho énfasis en la precisión. Un científico experimentado puede aprovechar esto para distribuir mejor el tiempo o el presupuesto, que tiene para un experimento dado."
   ]
  },
  {
   "cell_type": "markdown",
   "id": "381258f3",
   "metadata": {},
   "source": [
    "```{seealso}\n",
    "\n",
    "Para leer más sobre el incertidumbres dominantes mirar la sección 5.1 de {cite}`Squires2001` o las secciones 4.2.6 y 4.4 de {cite}`Hughes2010`.\n",
    "\n",
    "```"
   ]
  }
 ],
 "metadata": {
  "jupytext": {
   "text_representation": {
    "extension": ".md",
    "format_name": "myst",
    "format_version": 0.13,
    "jupytext_version": "1.14.0"
   }
  },
  "kernelspec": {
   "display_name": "Python 3 (ipykernel)",
   "language": "python",
   "name": "python3"
  },
  "source_map": [
   12,
   33
  ]
 },
 "nbformat": 4,
 "nbformat_minor": 5
}