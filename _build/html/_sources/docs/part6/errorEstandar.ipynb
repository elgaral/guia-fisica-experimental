{
 "cells": [
  {
   "cell_type": "markdown",
   "id": "49e56977",
   "metadata": {},
   "source": [
    "(sec-errorEstandar)=\n",
    "# Incertidumbre estándar\n",
    "\n",
    "En la {numref}`sec-teoremaLC` se conoció que el teorema del límite central afirma que al considerar un número $N$ de datos, determinar su media, y repetir este procedimiento repetidas veces, la media de la nueva distribución de datos (medias calculadas) se apróxima a la media de la distribución original con una incertidumbre que va disminuyendo a razón de $1/\\sqrt N$. Como lo que interesa es determinar la media de la distribución original con la menor incertidumbre posible, se puede decir que el procedimiento que se acaba de describir es el adecuado. No obstante, el problema con este procedimiento es que requiere repetir la toma de los grupos de medidas varias veces, es decir, requiere que se repita el experimento varias veces. Repetir el experimento varias veces puede ser poco práctico, y en ocasiones imposible, por lo que la pregunta es ¿se puede hacer uso  del teorema del límite central realizando sólo un experimento? ¿Una única toma de datos?. La repuesta es si. \n",
    "\n",
    "Como ejemplo de esto suponga que se tiene un experimento donde la cantidad física a medir sigue una distribución uniforme como la de la {numref}`fig-TLC`, con $\\mu = 2.100$ y $\\sigma = 0.500$. Primero se mide $35$ veces ($N = 35$), se determina el valor promedio, y se repite esto diez veces ($n = 10$) para obtener diez promedios. Con los diez promedios se obtiene la media $\\bar x = 2.108$ y la desviación estándar de la media $s_m = \\frac{s}{\\sqrt{35}} = 0.015$. Ahora, una sola vez ($n = 1$) se mide $N$ veces, se determina el promedio de las medidas, y se calcula la desviación estándar de la media $s_m = \\frac{s}{\\sqrt N}$[^claridad]. En la {numref}`fig-TLC-error` y la {numref}`tabla-TLC-error` se puede observar el resultado. De la figura es claro que todos los casos predicen el valor \"exacto\" de la media de la distribución cuando se tiene en cuenta la incertidumbre de la medida (barras horizontales), puesto que para todos los casos la línea roja correspondiente al valor \"exacto\" está contenida en los rangos definidos por las barras. La única diferencia apreciable entre los casos es que algunas de las incetidumbres son menores, en particular, para el caso en que se repite $10$ veces la toma de las $35$ medidas, y para el caso en que se toma una sola vez $35$ medidas, siendo mucho menor el correspondiente al primero.\n",
    "\n",
    "[^claridad]: Por claridad, se recuerda que $N$ corresponde al número de datos en un experimento, mientras que $n$ se refiere al número de experimentos realizados. Por otro lado, recuerde que $\\sigma$ es la desviación estandar de la población ($N \\to \\infty$), mientras que $s$ es la desviación estándar obtenida de una muestra, de la población, que tiene $N$ datos.\n",
    "\n",
    "```{figure} imagenes/TLC-error.svg\n",
    ":name: fig-TLC-error\n",
    "\n",
    "Efecto del número de medidas en el experimento.\n",
    "```\n",
    "\n",
    "```{list-table} Efecto del número de medidas en el experimento.\n",
    ":header-rows: 1\n",
    ":name: tabla-TLC-error\n",
    "\n",
    "* - \"Exacta\"\n",
    "  - $\\mu = 2.100$\n",
    "  - $\\sigma = 0.500$\n",
    "* - $N = 35$, $n = 10$\n",
    "  - $\\bar x = 2.108$\n",
    "  - $s = 0.015$\n",
    "* - $N = 5$\n",
    "  - $\\bar x = 2.2$\n",
    "  - $s = 0.3$\n",
    "* - $N = 15$\n",
    "  - $\\bar x = 2.03$\n",
    "  - $s = 0.11$\n",
    "* - $N = 25$\n",
    "  - $\\bar x = 2.03$\n",
    "  - $s = 0.11$\n",
    "* - $N = 35$\n",
    "  - $\\bar x = 2.15$\n",
    "  - $s = 0.09$\n",
    "```\n",
    "\n",
    "Se puede concluir que *es valido hacer una única serie de $N$ medidas de la variable aleatoria $X$, y reportar el resultado del valor más probable como*\n",
    "\n",
    "$$ X = \\bar x \\pm \\frac{s}{\\sqrt N} , $$ (ec-errorEstandar)\n",
    "\n",
    "donde \n",
    "\n",
    "$$\\bar x = \\frac{\\sum_{i=1}^{N} x_i}{N} ,$$ (ec-errorEstandar-media)\n",
    "\n",
    "y \n",
    "\n",
    "$$ s^2 = \\frac{\\sum_{i=1}^{N} (x_i - \\bar x)^2}{N-1} . $$ (ec-errorEstandar-varianza)\n",
    "\n",
    "\n",
    "\n",
    "A la incertidumbre $\\frac{s}{\\sqrt N}$ se le conoce como *incertidumbre estándar*[^errorEstandar].\n",
    "\n",
    "[^errorEstandar]: También se le conoce como \"desviación estándar de la media\" o \"error estándar\".\n",
    "\n",
    "El factor $1/\\sqrt N$ indica que a mayor número de medidas mayor precisión se tendrá en la medida. Esto se puede observar en la {numref}`fig-TLC-error2`, donde también es claro que al corresponder el factor a una función asintótica, llegará el momento donde el esfuerzo de hacer más medidas no se compensará con una mejora razonable en la precisión.\n",
    "\n",
    "\n",
    "```{figure} imagenes/TLC-error2.svg\n",
    ":name: fig-TLC-error2\n",
    "\n",
    "Efecto del factor $1/\\sqrt{N}$ sobre la precisión.\n",
    "```\n",
    "\n",
    "En la {numref}`fig-TLC-error2` se puede apreciar que algunas veces el valor más probable obtenido se puede alejar del valor \"exacto\" aunque estemos aumentando el número de medidas. Igualmente, para el caso de la incertidumbre estándar, puede ocurrir que aumente aún cuando se realizan más medidas. Se debe recordar que la variable es aleatoria, y por lo tanto, puede darse el caso de que aún al medir más veces, los valores medidos se alejen más del valor \"exacto\", o no se distribuyan uniformemente alrededor del valor \"exacto\", provocando que la media obtenida se aleje del mismo o que la incertidumbre estándar aumente: *es una cuestión de azar*. \n",
    "\n",
    "```{warning}\n",
    "\n",
    "Pero tenga en cuenta que en la mayoría de los casos, de mayor interés, se desconoce cuál es el valor \"exacto\". Entonces, lo importante es poder confiar que el valor \"exacto\" siempre esté dentro de un intervalo de confianza, como veremos más adelante.\n",
    "\n",
    "```\n",
    "\n",
    "```{admonition} Hazlo tu mismo\n",
    "\n",
    "Si quieres cambiar los parámetros de la {numref}`fig-TLC-error` para ver como pueden cambiar los resultados en virtud de la aleatoriedad, puedes usar el código que te presentamos a continuación en la ventana desplegable.\n",
    "```"
   ]
  },
  {
   "cell_type": "code",
   "execution_count": 1,
   "id": "dfc5b45b",
   "metadata": {
    "tags": [
     "hide-cell"
    ]
   },
   "outputs": [
    {
     "name": "stdout",
     "output_type": "stream",
     "text": [
      "Distribución original: media = 2.1000, desv = 0.5000\n",
      "Nueva distribución: 2.1078 +/- 0.0151\n",
      "Para 5 datos: 2.1715 +/- 0.2648\n",
      "Para 15 datos: 2.0275 +/- 0.1080\n",
      "Para 25 datos: 2.0281 +/- 0.1184\n",
      "Para 35 datos: 2.1505 +/- 0.0885\n"
     ]
    },
    {
     "data": {
      "image/png": "[encoded data removed]",
      "text/plain": [
       "<Figure size 1600x600 with 1 Axes>"
      ]
     },
     "metadata": {},
     "output_type": "display_data"
    }
   ],
   "source": [
    "###################\n",
    "media = 2.1    # media de la distribución original\n",
    "desv = 0.5     # desviación estándar de la distribución \n",
    "semilla = 5    # semilla para el generador de valores aleatorios\n",
    "N = 35         # Total de medidas por vez\n",
    "n = 10         # Veces que se repite el total de medidas\n",
    "##################\n",
    "\n",
    "import numpy as np\n",
    "import pylab as plt\n",
    "plt.rcParams['errorbar.capsize'] = 5\n",
    "plt.rcParams.update({'font.size': 18})\n",
    "fig,ax = plt.subplots(1,figsize=(16,6))\n",
    "\n",
    "def pdfUniform(media,desv):\n",
    "    b = media + np.sqrt(12)*desv/2\n",
    "    a = 2*media - b\n",
    "    pdf = 1/(b-a)\n",
    "    return a,b,pdf\n",
    "\n",
    "#Intervalo de la distribución\n",
    "a,b,pdfUni = pdfUniform(media,desv)\n",
    "ax.vlines(media,-6,N+1,ls='--',color='r')\n",
    "ax.set_xlabel('Media')\n",
    "\n",
    "#Repetición del experimento n veces\n",
    "np.random.seed(semilla)\n",
    "newDist = []\n",
    "for ii in range(n):\n",
    "    newDist.append(np.mean(np.random.uniform(a,b,size=N)))\n",
    "\n",
    "newDist_m = np.mean(newDist)\n",
    "newDist_s = np.std(newDist,ddof=1)/np.sqrt(N)\n",
    "ax.errorbar(newDist_m,-5,xerr=newDist_s,fmt='o',color='k')\n",
    "\n",
    "print('Distribución original: media = {:.4f}, desv = {:.4f}'.format(media,desv))\n",
    "print('Nueva distribución: {:.4f} +/- {:.4f}'.format(newDist_m,newDist_s))\n",
    "\n",
    "#procedimiento práctico\n",
    "np.random.seed(semilla)\n",
    "for ii in range(5,N+1,10):\n",
    "    vals = np.random.uniform(a,b,size=ii)\n",
    "    Prac_m = np.mean(vals)\n",
    "    Prac_s = np.std(vals,ddof=1)/np.sqrt(ii)\n",
    "    print('Para {} datos: {:.4f} +/- {:.4f}'.format(ii,Prac_m,Prac_s))\n",
    "    ax.errorbar(Prac_m,ii,xerr=Prac_s,fmt='o',color='k')\n",
    "\n",
    "#ax.set_yticks(range(-5,N+1,10),['$N = 35$, $n = 10$','$N = 5$','$N = 15$', '$N = 25$', '$N = 35$'])\n",
    "plt.show()"
   ]
  },
  {
   "cell_type": "markdown",
   "id": "6a3b681b",
   "metadata": {},
   "source": [
    "(subsec-estimacionEjemplo1b)=\n",
    "## Ejemplo altura mesa: usando la incetidumbre estándar\n",
    "Recordando el ejemplo de la altura de la mesa realizado en la {numref}`subsec-estimacionEjemplo1`, los tiempos medidos por el estudiante fueron\n",
    "\n",
    "```{list-table} Tiempos de caída en centésimas de segundo.\n",
    ":name: tiemp-caida2\n",
    "* - 44\n",
    "  - 53\n",
    "  - 47\n",
    "  - 47\n",
    "  - 46\n",
    "  - 50\n",
    "  - 53\n",
    "```\n",
    "\n",
    "Usando la ecuación {eq}`ec-errorEstandar-media`, el tiempo de caída más probable es $0.4857\\,\\text{s}$. Calculando la raiz cuadrada de la ecuacion {eq}`ec-errorEstandar-varianza`, se obtiene una incertidumbre estándar de $0.01325\\,\\text{s}$. Por lo tanto, el valor de tiempo de caída obtenido es: $ t = (0.486 \\pm 0.013) \\ \\text{s} $.\n",
    "\n",
    "```{note}\n",
    "La diferencia en la incetibumbre con respecto al valor obtenido con el método rápido de la {numref}`subsec-estimacionEjemplo1` fue de tan solo $15\\,\\%$. Esta es una diferencia razonable, validando el uso del método rápido como un buen estimador de la incertidumbre, en especial para tomarlo como una primera aproximación.\n",
    "\n",
    "```"
   ]
  },
  {
   "cell_type": "markdown",
   "id": "4429a318",
   "metadata": {},
   "source": [
    "```{seealso}\n",
    "\n",
    "Para leer más sobre incertidumbre estándar mirar la sección 2.7 de {cite}`Hughes2010`, secciones 4.4 y 5.6 de {cite}`Taylor1996`, secciones 4.1 y 4.3 de {cite}`Bevington`, sección 1.4.2 de {cite}`Mahecha2009` y secciones 3.3 y 3.4 de {cite}`Squires2001`.\n",
    "\n",
    "```"
   ]
  }
 ],
 "metadata": {
  "jupytext": {
   "text_representation": {
    "extension": ".md",
    "format_name": "myst",
    "format_version": 0.13,
    "jupytext_version": "1.14.0"
   }
  },
  "kernelspec": {
   "display_name": "Python 3 (ipykernel)",
   "language": "python",
   "name": "python3"
  },
  "language_info": {
   "codemirror_mode": {
    "name": "ipython",
    "version": 3
   },
   "file_extension": ".py",
   "mimetype": "text/x-python",
   "name": "python",
   "nbconvert_exporter": "python",
   "pygments_lexer": "ipython3",
   "version": "3.9.16"
  },
  "source_map": [
   12,
   94,
   149,
   173
  ]
 },
 "nbformat": 4,
 "nbformat_minor": 5
}