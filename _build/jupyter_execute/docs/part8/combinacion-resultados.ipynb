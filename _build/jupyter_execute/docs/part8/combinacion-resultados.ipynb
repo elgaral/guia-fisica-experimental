{
 "cells": [
  {
   "cell_type": "markdown",
   "id": "9b3e9888",
   "metadata": {},
   "source": [
    "(sec-combinacion-resultados)=\n",
    "# Combinación de resultados\n",
    "\n",
    "Alguna vez se ha preguntado de donde vienen las constantes que usualmente se listan en la parte posterior de los libros, o la [página del NIST](https://physics.nist.gov/cuu/Constants/index.html), como la constante de Planck, la masa del protrón, la masa del electrón, la constante de la estructura fina, entre otras. La verdad es que los valores e incertidumbres de dichas constantes surgen del consenso de un grupo de expertos ([CODATA](https://codata.org/)), a partir de las mediciones hechas por diferentes laboratorios. En general, las distintas mediciones que llegan al grupo de expertos difieren y tienen distintas incertidumbres. La pregunta que surge es ¿**cómo combinar las diferentes mediciones, con diferentes incertidumbres, para reportar un único valor con una única incertidumbre**?\n",
    "\n",
    "Para introducir el método, primero se analizará la forma de combinar dos resultados, $x_1 \\pm \\alpha_1$ y $x_2 \\pm \\alpha_2$. Lo primero es usar lo aprendido en la {numref}`sec-comparaResul` para determinar si los resultados coinciden o discrepan. En caso de que discrepen no tiene sentido combinarlos; en cambio, se debe tratar de encontrar posibles errores sistemáticos en ambas medidas. Si por el contrario los resultados coinciden, debemos buscar cuál es la mejor forma de combinarlos. La respuesta para esto es usar el [principio de máxima verosimilitud](subsec-bestEstimadores).\n",
    "\n",
    "Suponiendo que las variables de ambos resultados siguen una distribución normal, y sea $X$ el valor real de la cantidad física, la probabilidad de haber obtenido los resultados $x_1$ y $x_2$ será\n",
    "\n",
    "$$ P_X(x_1,x_2) = \\frac{1}{\\alpha_1 \\sqrt{2\\pi}} e^{\\large -\\frac{(x_1 - X)^2}{2\\alpha_1^2}} \\times \\frac{1}{\\alpha_2 \\sqrt{2\\pi}} e^{\\large -\\frac{(x_2 - X)^2}{2\\alpha_2^2}}, $$\n",
    "\n",
    "$$ P_X(x_1,x_2) = \\frac{1}{2\\pi\\alpha_1\\alpha_2} e^{\\large -\\bigg(\\frac{(x_1 - X)^2}{2\\alpha_1^2} + \\frac{(x_2 - X)^2}{2\\alpha_2^2}\\bigg)}  . $$ (ec-combi1) \n",
    "\n",
    "La mejor estimación que se puede tener del valor real $X$ es aquel que maximiza la probabilidad {eq}`ec-combi1` para los valores $x_1$ y $x_2$. Maximizar la ecuación {eq}`ec-combi1` es equivalente a minimizar el argumento de la exponencial. Derivando el argumento con respecto a $X$ e igualando a cero se obtiene:\n",
    "\n",
    "$$ \\frac{(x_1 - X)}{\\alpha_1^2} + \\frac{(x_2 - X)}{\\alpha_2^2} = 0 .$$\n",
    "\n",
    "Despejando  $X$ se obtiene la mejor aproximación al valor real,\n",
    "\n",
    "$$\\large x_{mejor} = \\frac{\\frac{x_1}{\\alpha_1^2} + \\frac{x_2}{\\alpha_2^2} }{\\frac{1}{\\alpha_1^2} + \\frac{1}{\\alpha_2^2}} .$$\n",
    "\n",
    "Definiendo $w_i = 1/\\alpha_i^2$, se puede obtener una expresión más compacta que coincide con la expresión del *promedio ponderado*:\n",
    "\n",
    "$$ x_{mejor} = \\frac{w_1x_1 +w_2x_2}{w_1 +w_2} .$$ (ec-combi2)\n",
    "\n",
    "Usando propagación de la incertidumbre para incertidumbres pequeñas\n",
    "\n",
    "$$\\begin{split}\\large \\alpha_{x_{mejor}}^2 \\normalsize &= \\bigg( \\frac{w_1}{w_1 + w_2} \\bigg)^2 \\bigg(\\frac{1}{w_1}\\bigg) + \\bigg( \\frac{w_2}{w_1 + w_2} \\bigg)^2 \\bigg(\\frac{1}{w_2}\\bigg) \\\\\n",
    "&= \\bigg( \\frac{1}{w_1 + w_2} \\bigg)^2 w_1 + \\bigg( \\frac{1}{w_1 + w_2} \\bigg)^2 w_2 \\\\\n",
    "&= \\frac{1}{w_1 + w_2}\n",
    "\\end{split} ,$$\n",
    "\n",
    "y por lo tanto la incertidumbre será\n",
    "\n",
    "$$\\large \\alpha_{x_{mejor}} \\normalsize = \\sqrt{\\frac{1}{w_1 + w_2}} .$$ (ec-combi3)\n",
    "\n",
    "Generalizando, sean $N$ las variables $x_i \\pm \\alpha_i$, con $i=1,2,...,N$, mediciones de la cantidad física $X$, la mejor estimación que se tiene de $X$ es\n",
    "\n",
    "$$ x_{mejor} = \\frac{\\sum_{i=1}^N w_i x_i}{\\sum_{i=1}^N w_i} , $$ (ec-combi4)\n",
    "\n",
    "con incertidumbre\n",
    "\n",
    "$$\\large \\alpha_{x_{mejor}} \\normalsize = \\sqrt{\\frac{1}{\\sum_{i=1}^N w_i}} , $$ (ec-combi5)\n",
    "\n",
    "donde $w_i = 1/\\alpha_i^2$."
   ]
  },
  {
   "cell_type": "markdown",
   "id": "f068974d",
   "metadata": {},
   "source": [
    "**Ejemplo**[^simbolo]\n",
    "\n",
    "[^simbolo]: El símbolo asignado a la constante de la estructura fina es la letra griega $\\alpha$. Lastimosamente, es la misma letra que se ha usado, en este libro, para la incertidumbre. En este ejemplo, en particular, usaremos la letra griega $\\sigma$ para la incertidumbre.\n",
    "\n",
    "Para determinar el valor de la [constante de la estructura fina](https://physics.nist.gov/cuu/Constants/alpha.html#:~:text=The%20fine%2Dstructure%20constant%20%CE%B1,and%20light%20(photons)%20interact.), tres medidas muy precisas se han hecho {cite}`tiesinga2021codata`: la primera se realizó en la Universidad de Harvard en 2008 (\"Harvard-08\") a partir de medir la anomalía en el momento magnético del electrón. Las otras dos se realizaron en el laboratorio Kastler-Brossel (\"LKB-11\"), en 2011, y en la Universidad de Berkeley (\"Berkely-18\"), en 2018, usando como principio el efecto Hall cuántico. Los respectivos valores obtenidos se observan en la {numref}`fig-combiAlfa`. \n",
    "\n",
    "```{figure} imagenes/combiAlfa.svg\n",
    ":name: fig-combiAlfa\n",
    "\n",
    "Resultados de la medición de la constante de la estructura fina. Los valores reportados para $(\\alpha^{-1} - 137.03)\\times 10^{5}$ son $599.9150(33)$, $599.8998(85)$ y $599.9048(28)$ para \"Harvard-08\", \"LKB-11\" y \"Berkeley-18\", respectivamente.\n",
    "```\n",
    "\n",
    "Para reportar un único valor de la constante de la estructura fina, el Comité de datos del Consejo Internacional de ciencia ([CODATA](https://codata.org/)) hace uso de las ecuaciones {eq}`ec-combi4` y {eq}`ec-combi5`, talque\n",
    "\n",
    "$$ k = \\frac{\\frac{599.915\\,0}{(0.003\\,3)^2} + \\frac{599.899\\,8}{(0.008\\,5)^2} + \\frac{599.904\\,8}{(0.002\\,8)^2} }{\\frac{1}{(0.003\\,3)^2} + \\frac{1}{(0.008\\,5)^2} + \\frac{1}{(0.002\\,8)^2} } = 599.9085 ,$$\n",
    "\n",
    "donde $k = (\\alpha^{-1} - 137.03)\\times 10^{5}$ con incertidumbre igual a\n",
    "\n",
    "$$ \\sigma_k = \\frac{1}{\\sqrt{ \\frac{1}{(0.003\\,3)^2} + \\frac{1}{(0.008\\,5)^2} + \\frac{1}{(0.002\\,8)^2}  }} = 0.0021 .$$\n",
    "\n",
    "Dado que la constante de la estructura fina es $\\alpha = 1/\\big( 10^{-5}k + 137.03 \\big)$, reemplazando términos y aplicando la propagación de la incertidumbre se obtiene para la constante el valor[^nist]\n",
    "\n",
    "$$ \\alpha = 7.297\\,352\\,5692(11)\\times 10^{-3} .$$\n",
    "\n",
    "[^nist]: El valor reportado en el NIST es $ \\alpha = 7.297\\,352\\,5693(11)\\times 10^{-3} .$"
   ]
  },
  {
   "cell_type": "markdown",
   "id": "fdecf36b",
   "metadata": {},
   "source": [
    "```{seealso}\n",
    "\n",
    "Para leer más sobre la combinación de resultados mirar el capítulo 7 de {cite}`Taylor1996`.\n",
    "\n",
    "```"
   ]
  }
 ],
 "metadata": {
  "jupytext": {
   "text_representation": {
    "extension": ".md",
    "format_name": "myst",
    "format_version": 0.13,
    "jupytext_version": "1.14.0"
   }
  },
  "kernelspec": {
   "display_name": "Python 3 (ipykernel)",
   "language": "python",
   "name": "python3"
  },
  "source_map": [
   12,
   60,
   90
  ]
 },
 "nbformat": 4,
 "nbformat_minor": 5
}