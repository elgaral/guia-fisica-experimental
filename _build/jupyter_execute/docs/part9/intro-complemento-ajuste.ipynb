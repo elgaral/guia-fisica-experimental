{
 "cells": [
  {
   "cell_type": "markdown",
   "id": "876e47ab",
   "metadata": {},
   "source": [
    "(sec-ajuste-avanzado)=\n",
    "# Conceptos avanzados sobre ajuste de datos\n",
    "\n",
    "\n",
    "```{figure} imagenes/residuos1.svg\n",
    ":figclass: margin\n",
    "```\n",
    "\n",
    "En la {numref}`sec-ajusteDatos` se presentaron métodos para ajustar datos experimentales a modelos lineales y nolineales. No obstante, la verificación de la calidad del ajuste se realizó de forma visual. En esta sección se presentarán algunos métodos cuantitativos que permitirán tomar una mejor decisión con respecto a si el ajuste es bueno o no. En la parte final también se incluirá un procedimiento para verificar cuantitativamente si un histrograma se corresponde con una determinada distribución estadística.\n",
    "\n",
    "El contenido de la sección sera:\n",
    "\n",
    "```{tableofcontents}\n",
    "```"
   ]
  }
 ],
 "metadata": {
  "jupytext": {
   "text_representation": {
    "extension": ".md",
    "format_name": "myst",
    "format_version": 0.13,
    "jupytext_version": "1.14.0"
   }
  },
  "kernelspec": {
   "display_name": "Python 3 (ipykernel)",
   "language": "python",
   "name": "python3"
  },
  "source_map": [
   12
  ]
 },
 "nbformat": 4,
 "nbformat_minor": 5
}