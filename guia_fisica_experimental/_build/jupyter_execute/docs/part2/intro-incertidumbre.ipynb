{
 "cells": [
  {
   "cell_type": "markdown",
   "id": "c4df48ac",
   "metadata": {},
   "source": [
    "(sec-incertidumbre)=\n",
    "# Incertidumbre\n",
    "\n",
    "```{figure} imagenes/introError.jpg\n",
    ":figclass: margin\n",
    "```\n",
    "\n",
    "No hay medición experimental exacta o libre de incertidumbre. Lo máximo a lo que se puede aspirar es a reducir suficientemente la incertidumbre de la medida como para considerarla exacta en el contexto particular de interés. Lo que si se debe hacer es definir la incertidumbre de la medida de forma tal que nuestros \"pares\" puedan definir los rangos de confiabilidad del valor cuando pretendan compararlo o usar, en sus propios experimentos o cálculos. En todo caso, siempre será necesario y obligatorio reportar la incertidumbre. En este capítulo se pretende presentar al estudiante la terminología básica y los conceptos fundamentales detrás de la medida de la incertidumbre, con el objetivo de darle herramientas, desde un principio, para que pueda reportar sus resultados experimentales con una incertidumbre obtenida de forma conciente. El cálculo más preciso de la incertidumbre se dejará para la {numref}`sec-incertidumbreProcesosAleatorios`, cuando se tengan todas las herramientas matemáticas necesarias.\n",
    "\n",
    "El contenido en este capítulo sera:\n",
    "\n",
    "```{tableofcontents}\n",
    "```"
   ]
  }
 ],
 "metadata": {
  "jupytext": {
   "text_representation": {
    "extension": ".md",
    "format_name": "myst",
    "format_version": 0.13,
    "jupytext_version": "1.14.0"
   }
  },
  "kernelspec": {
   "display_name": "Python 3 (ipykernel)",
   "language": "python",
   "name": "python3"
  },
  "source_map": [
   12
  ]
 },
 "nbformat": 4,
 "nbformat_minor": 5
}