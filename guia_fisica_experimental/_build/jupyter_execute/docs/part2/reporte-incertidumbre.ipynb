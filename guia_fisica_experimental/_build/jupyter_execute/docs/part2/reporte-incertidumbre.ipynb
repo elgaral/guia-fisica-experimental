{
 "cells": [
  {
   "cell_type": "markdown",
   "id": "40ea5dd0",
   "metadata": {},
   "source": [
    "(sec-reporteIncertidumbre)=\n",
    "\n",
    "# Reporte de la Incertidumbre\n",
    "\n",
    "Con base en lo visto en las secciones anteriores, la incertidumbre se refiere a la duda que se tiene sobre el valor exacto de la cantidad física medida. Esto obliga a reportar un rango, en lugar de un valor único, con la conjetura de que el valor real de la cantidad física se encuentra con cierta probabilidad dentro del rango reportado."
   ]
  },
  {
   "cell_type": "markdown",
   "id": "2c9da12f",
   "metadata": {},
   "source": [
    "(subsec-notacionIncertidumbre)=\n",
    "## Notación correcta\n",
    "\n",
    "El reporte de la cantidad física medida seguirá la siguiente estructura:\n",
    "\n",
    "$$ X = x_{mejor} \\pm \\alpha_x$$\n",
    "\n",
    "donde $X$ es la cantidad física medida que se desea reportar, $x_{mejor}$ es el valor más probable de la cantidad física[^nombres], y $\\alpha_x$ es la incertidumbre en la medida, también conocida como incertidumbre absoluta[^error].\n",
    "\n",
    "Como $\\alpha_x$ es siempre un valor positivo, $x_{mejor} + \\alpha_x$ es el valor superior del rango y $x_{mejor} - \\alpha_x$ es el valor inferior del rango, y definen la región donde se tiene la mayor certeza de que el valor real se encuentre.\n",
    "\n",
    "[^nombres]: Otros nombres típicamente utilizados son valor promedio, valor esperado y valor nominal.\n",
    "\n",
    "[^error]: También se le suele llamar \"error en la medida\" o \"error absoluto\"."
   ]
  },
  {
   "cell_type": "markdown",
   "id": "4c73dab7",
   "metadata": {},
   "source": [
    "(subsec-csIncertidumbre)=\n",
    "## Inclusión de cifras significativas\n",
    "\n",
    "Como su propio nombre lo indica, la incertidumbre $\\alpha_x$ no es un valor exacto, por lo que no se puede reportar con un número grande de [*cifras significativas*](subsec-cifras), de hecho, típicamente se aceptan hasta dos cifras significativas en la incetidumbre. La razón para esto radica en que la misma incertidumbre se determina a partir de los datos medidos, y como típicamente el número de datos medidos en pequeño (inferior a 30 datos si la medida es manual) la incertidumbre también tendrá un error inherente.\n",
    "\n",
    "```{tip}\n",
    "Cómo regla general, reporte la incertidumbre con una sola cifra significativa. Solo para el caso en que haya hecho del orden de miles de medidas ó, la cifra significativa sea el número $1$, reporte dos cifras significativas. La explicación para esto se da en la {numref}`subsec-errorError`.\n",
    "```\n",
    "\n",
    "El procedimiento que se debe seguir para escribir la cantidad física medida teniendo en cuenta las cifras significativas es:\n",
    "1. Escriba la incertidumbre con el número correcto de cifras significativas.\n",
    "2. Escriba el valor más probable de modo tal que coincida el número de decimales con el número de decimales de la incertidumbre.\n",
    "\n",
    "```{warning}\n",
    "Realice todos los cálculos previos sin hacer [*redondeos*](subsec-redondeo), y con todas las cifras disponibles. Solo al momento de reportar realice los redondeos para obtener el número de cifras significativas correctas.\n",
    "```\n",
    "\n",
    "**Ejemplo 1**: suponga que luego de realizar todos los cálculos pertinentes se obtiene para el valor más probable $23.140 \\ 692 \\ 632 \\ 8$, y para la incertidumbre $2.314 \\ 069\\ 263 \\ 3$. Reportando la incertidumbre con una cifra significativa, el valor medido a reportar será:\n",
    "\n",
    "$$23 \\pm 2$$\n",
    "\n",
    "Dada la incertidumbre que se tiene la cantidad medida solo tiene dos cifras significativas.\n",
    "\n",
    "**Ejemplo 2**: con un experimento realizado en el laboratorio se obtiene para el valor más probable de la aceleración de la gravedad $g_{mejor} = 9.692 \\ 1 \\ \\text{m/s}^2$, con un valor para la incertidumbre de $\\alpha_g = 0.484 \\ 6 \\ \\text{m/s}^2$. Se decide reportar la incertidumbre con una cifra significativa. Se pide reportar correctamente el valor medido. *Sugerencia: reporte el valor de la aceleración de la gravedad antes de mirar la respuesta*.\n",
    "\n",
    "```{admonition} Despliegue para ver la respuesta.\n",
    ":class: dropdown\n",
    "\n",
    "$$ g = (9.7 \\pm 0.5) \\ \\text{m/s}^2 $$\n",
    "\n",
    "Nuevamente la cantidad medida tiene dos cifras significativas.\n",
    "```\n",
    "\n",
    "**Ejemplo 3**: suponga ahora que para la medida de la aceleración de la gravedad se hace un mayor número de medidas, o se utilizan instrumentos más precisos, de modo tal que el nuevo valor más probable es $g_{mejor} = 9.748 \\ 3 \\ \\text{m/s}^2$, con un valor para la incertidumbre de $\\alpha_g = 0.044 \\ 9 \\ \\text{m/s}^2$. Nuevamente se decide reportar la incertidumbre con una cifra significativa, y se pide reportar correctamente el valor medido. *Sugerencia: reporte el valor de la aceleración de la gravedad antes de mirar la respuesta*.\n",
    "\n",
    "```{admonition} Despliegue para ver la respuesta.\n",
    ":class: dropdown\n",
    "\n",
    "$$ g = (9.75 \\pm 0.04) \\ \\text{m/s}^2 $$\n",
    "\n",
    "Este nuevo resultado tiene tres cifras significativas.\n",
    "```"
   ]
  },
  {
   "cell_type": "markdown",
   "id": "ea7d0e13",
   "metadata": {},
   "source": [
    "```{seealso}\n",
    "Más sobre como reportar la incertidumbre se puede encontrar en la sección 2.8 de {cite}`Hughes2010`, y en las secciones 2.1 y 2.2 de {cite}`Taylor1996`.\n",
    "```"
   ]
  }
 ],
 "metadata": {
  "jupytext": {
   "text_representation": {
    "extension": ".md",
    "format_name": "myst",
    "format_version": 0.13,
    "jupytext_version": "1.14.0"
   }
  },
  "kernelspec": {
   "display_name": "Python 3 (ipykernel)",
   "language": "python",
   "name": "python3"
  },
  "source_map": [
   12,
   20,
   37,
   82
  ]
 },
 "nbformat": 4,
 "nbformat_minor": 5
}