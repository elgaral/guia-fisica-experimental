{
 "cells": [
  {
   "cell_type": "markdown",
   "id": "680646ec",
   "metadata": {},
   "source": [
    "(sec-ejerciciosV2P7)=\n",
    "# Ejercicios\n",
    "\n",
    "**Método de mínimos cuadrados**\n",
    "\n",
    "**1**. Derivar las ecuaciones {eq}`ec-mc1` y {eq}`ec-mc2`."
   ]
  },
  {
   "cell_type": "markdown",
   "id": "8b728ce6",
   "metadata": {},
   "source": [
    "**Método de ajuste nolineal**\n",
    "\n",
    "**2.** Usando el método de z-scan usted mide en el laboratorio la transmitancia de la luz cuando un pulso láser atraviesa una muestra de un material semiconductor. Los parámetros del experimento son:\n",
    "* Espesor de la muestra. $L = 1\\,\\text{mm}$\n",
    "* Irradiancia del láser en la muestra: $I_0 = 1\\,\\text{TW/m}$\n",
    "* Longitud de onda del láser: $\\lambda = 780\\,\\text{nm}$\n",
    "* Tamaño del spot láser: $w_0 = 65\\,\\mu\\text{m}$\n",
    "\n",
    "Sabiendo que el modelo que predice la transmitancia $T$ está dado por la expresión\n",
    "\n",
    "$$ T = 1 - \\frac{\\beta I_0 L}{2\\sqrt 2} \\Bigg(1 + \\bigg(\\frac{z}{z_0}\\bigg)^2\\Bigg)^{-1} ,$$\n",
    "\n",
    "donde $z_0 = kw_0^2$, $k = 2\\pi/\\lambda$, y $\\beta$ es el coeficiente de absorción nolineal. (a) Realice una gráfica de la transmitancia en función de la variable adimensional $z/z_0$. (b) Realice un ajuste nolineal para determinar $\\beta$. Reporte correctamente el valor con su incertidumbre, en cm/GW, y reporte la incertidumbre relativa. (c) Determine la incertidumbre común de los datos de transmitancia. (d) Si el valor real de $\\beta$ es $8\\,\\text{cm/GW}$, indique si el valor que encontró en (b) coincide significativamente con el valor real. A continuación se presentan los datos de transmitancia (*`datos`*) y posición (*`z`*)."
   ]
  },
  {
   "cell_type": "code",
   "execution_count": 1,
   "id": "f62a093c",
   "metadata": {
    "tags": [
     "hide-cell"
    ]
   },
   "outputs": [],
   "source": [
    "import numpy as np\n",
    "datos = np.array([1.00107518, 1.00146765, 0.99886514, 0.99659094, 0.9997498 ,\n",
    "       1.00061351, 1.00256587, 1.00223257, 0.99864485, 0.99819449,\n",
    "       0.99568751, 0.99315836, 0.98915297, 0.98957013, 0.97418306,\n",
    "       0.97432637, 0.98315578, 0.99412608, 0.99277016, 0.99736102,\n",
    "       0.99700683, 1.00019505, 0.99880234, 0.9977386 , 1.00024404,\n",
    "       1.00130404, 1.00069017, 1.00124834, 0.9994404 , 1.00003864])\n",
    "\n",
    "z = np.array([-0.3       , -0.27931034, -0.25862069, -0.23793103, -0.21724138,\n",
    "       -0.19655172, -0.17586207, -0.15517241, -0.13448276, -0.1137931 ,\n",
    "       -0.09310345, -0.07241379, -0.05172414, -0.03103448, -0.01034483,\n",
    "        0.01034483,  0.03103448,  0.05172414,  0.07241379,  0.09310345,\n",
    "        0.1137931 ,  0.13448276,  0.15517241,  0.17586207,  0.19655172,\n",
    "        0.21724138,  0.23793103,  0.25862069,  0.27931034,  0.3])"
   ]
  },
  {
   "cell_type": "markdown",
   "id": "7419014a",
   "metadata": {},
   "source": [
    "**Interpolación y extrapolación**\n",
    "\n",
    "**3**. Con los datos del problema anterior, realice una interpolación y extrapolación para crear una gráfica que vaya desde $z/z_0 = -15$ hasta $z/z_0 = 15$, y que contenga 200 puntos. Superponga a esta gráfica los datos experimentales con la incertidumbre común."
   ]
  }
 ],
 "metadata": {
  "jupytext": {
   "text_representation": {
    "extension": ".md",
    "format_name": "myst",
    "format_version": 0.13,
    "jupytext_version": "1.14.0"
   }
  },
  "kernelspec": {
   "display_name": "Python 3 (ipykernel)",
   "language": "python",
   "name": "python3"
  },
  "language_info": {
   "codemirror_mode": {
    "name": "ipython",
    "version": 3
   },
   "file_extension": ".py",
   "mimetype": "text/x-python",
   "name": "python",
   "nbconvert_exporter": "python",
   "pygments_lexer": "ipython3",
   "version": "3.9.16"
  },
  "source_map": [
   12,
   21,
   37,
   57
  ]
 },
 "nbformat": 4,
 "nbformat_minor": 5
}