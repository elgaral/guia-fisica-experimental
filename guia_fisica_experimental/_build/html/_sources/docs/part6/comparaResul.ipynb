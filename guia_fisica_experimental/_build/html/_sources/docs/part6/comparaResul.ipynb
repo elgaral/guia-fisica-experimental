{
 "cells": [
  {
   "cell_type": "markdown",
   "id": "6b779607",
   "metadata": {},
   "source": [
    "(sec-comparaResul)=\n",
    "# Comparación de resultados\n",
    "En una gran cantidad de experimentos, para poder llegar a una conclusión se requiere comparar el resultado con un valor teórico, con otro resultado experimental, o incluso, con una cantidad aceptada como correcta. Esto con el fin de saber si las cantidades coinciden, o por el contrario, discrepan. Si la cantidad a comparar se encuentra dentro del intervalo definido por el resultado, en caso de que la cantidad tenga una incertidumbre despreciable, o si los intervalos de ambas cantidades se intersecan, se puede concluir que ambas cantidades coinciden. Por ejemplo, al observar la {numref}`fig-resistencia`, vemos que los intervalos de todas las medidas se intersecan con el intervalo del valor correspondiente a \"Fab. 5 %\", luego podemos decir que todas las medidas coinciden con el valor de \"Fab. 5 %\". Sin embargo, al comparar la medida \"Baku\" con las medidas \"Mastech\" y \"Mastech F\", vemos que los intervalos no se intersecan, ¿se dice entonces que el valor de \"Baku\" discrepa de los otros dos? La respuesta es no. Hay que recordar que los intervalos reportados para las medidas hablan de una confiabilidad, por lo que, estadísticamente, es posible que los valores coincidan aunque sus intevalos no se intersequen. A continuación se presenta un método cuantitativo para determinar si los valores coinciden o discrepan.\n",
    "\n",
    "Sean las variables $x \\pm \\alpha_x$ y $y \\pm \\alpha_y$, ambas reportadas con una confiabilidad del $68\\,\\%$, usando propagación de la incertidumbre, la diferencia entre las variablaes, $|x-y|$, tiene una incertidumbre igual a $\\sqrt{\\alpha_x^2 + \\alpha_y^2}$. Como es de esperarse que la diferencia entre las variables sea nula, dicha diferencia estará caracterizada por una distribución normal[^sumaNormal] con media igual a cero y desviación estándar igual a $\\sqrt{\\alpha_x^2 + \\alpha_y^2}$.\n",
    "\n",
    "[^sumaNormal]: La demostración de que la suma de dos distribuciones normales es otra distribución normal se encuentra en la sección 5.6 de {cite}`Taylor1996`.\n",
    "\n",
    "Se puede entonces definir la variable $z$,\n",
    "\n",
    "$$ z = \\frac{|x-y|}{\\sqrt{\\alpha_x^2 + \\alpha_y^2}} ,$$ (ec-varTipificada)\n",
    "\n",
    "tal que $z$ es una variable aleatoria de una distribución normal con media $\\mu = 0$ y desviación estándar $\\sigma = 1$. Se puede concluir ahora si las variables coinciden o no en virtud del valor de $z$. Por ejemplo, si $z$ es menor que $\\sigma$, se concluye que las variables coinciden; pero si $z$ es mayor que $3\\sigma$ se tendrá que decir que las cantidades discrepan. Un resumen de las conclusiones posibles se encuentra en la {numref}`tabla-comparacionxy`[^limite]. Se observa entonces que usando la ecuación {eq}`ec-varTipificada` se puede estar seguro de que los valores comparados coinciden, discrepan, ó que el experimento no es concluyente, y por lo tanto se deberá repetir, buscando tener una mayor precisión.\n",
    "\n",
    "[^limite]: Los límites de los intervalos definidos en la tabla sólo se deben tomar como una guía, en ningún momento son impositivos.\n",
    "\n",
    "```{list-table} Conclusiones comparación de cantidades $x$ y $y$. Recordar que $\\sigma = 1$.\n",
    ":header-rows: 1\n",
    ":name: tabla-comparacionxy\n",
    "\n",
    "* - $z$\n",
    "  - Conclusión\n",
    "* - $z \\leq \\sigma$\n",
    "  - Coincidencia significativa\n",
    "* - $\\sigma < z \\leq 2\\sigma$\n",
    "  - Coincidencia aceptable\n",
    "* - $2\\sigma < z \\leq 2.5\\sigma$\n",
    "  - No concluyente\n",
    "* - $z > 2.5\\sigma$\n",
    "  - Discrepan\n",
    "```\n",
    "\n",
    "**Ejemplo** : una resistencia, que según el fabricante (\"**Fab 5 %**\") tiene una valor de $(100 \\pm 5)\\,\\Omega$, se mide de las siguientes formas (ver {numref}`fig-resistencia`):\n",
    "\n",
    "1. \"**Baku**\": usando un multímetro marca Baku, se realizaron doce mediciones y se obtuvo para la resistencia el valor de $(96.01 \\pm 0.14)\\,\\Omega$. \n",
    "\n",
    "2. \"**Baku F**\": usando un multímetro marca Baku, se realizó una única medida, y usando la precisión reportada por el fabricante, se obtuvo para la resistencia el valor de $(97 \\pm 3)\\,\\Omega$. \n",
    "\n",
    "3. \"**Mastech**\": usando un multímetro marca Mastech, se realizaron diez medidas. Cómo más de la mitad de las medidas dio el valor $98.9\\,\\Omega$, se decide reportar usando como precisión la resolución del instrumento, por lo que se obtiene para la resistencia el valor de $(98.9 \\pm 0.1)\\,\\Omega$[^una].\n",
    "\n",
    "[^una]: Hemos puesto la incertidumbre con una sola cifra significativa, porque en este caso particular estamos seguros que ese es el valor: nosotros mismos lo elegimos.\n",
    "\n",
    "4. \"**Mastech F**\": usando un multímetro marca Mastech, se realiza una única medida, y usando la precisión reportada por el fabricante, se obtiene para la resistencia el valor de $(98.9 \\pm 1.1)\\,\\Omega$. \n",
    "\n",
    "```{figure} imagenes/resistencia.svg\n",
    ":name: fig-resistencia\n",
    "\n",
    "Comparación de resistencias.\n",
    "```\n",
    "\n",
    "Las cuatro mediciones hechas coinciden con el valor reportado por el fabricante. Igualmente, la medida \"Baku F\" coincide con las medidas hechas con el multímetro *Mastech*. Sin embargo, la medida \"Baku\", obtenida a partir de realizar repetidas mediciones con el multímetro *Baku*, tiene un intervalo que no se interseca con los intervalos obtenidos con el multímetro *Mastech*. Para poder definir si la medida \"Baku\" coincide o discrepa de las medidas \"Mastech\" y \"Mastech F\", se usa la expresión {eq}`ec-varTipificada`. Al comparar con respecto a \"Mastech\" se obtiene el valor $z = 16.7$, indicando claramente que los valores discrepan. Comparando con \"Mastech F\" se obtiene el valor $z = 3.6$, indicando también que los valores discrepan. Una opción para determinar cuál de los dos multímetros está probablemente descalibrado será medir una resistencia de mayor precisión, por ejemplo una con incertidumbre relativa del $1\\,\\%$."
   ]
  },
  {
   "cell_type": "markdown",
   "id": "9be57c6b",
   "metadata": {},
   "source": [
    "```{seealso}\n",
    "\n",
    "Para leer más sobre la comparación de resultados remitirse a la sección 5.8 de {cite}`Taylor1996`. \n",
    "\n",
    "```"
   ]
  }
 ],
 "metadata": {
  "jupytext": {
   "text_representation": {
    "extension": ".md",
    "format_name": "myst",
    "format_version": 0.13,
    "jupytext_version": "1.14.0"
   }
  },
  "kernelspec": {
   "display_name": "Python 3 (ipykernel)",
   "language": "python",
   "name": "python3"
  },
  "source_map": [
   12,
   66
  ]
 },
 "nbformat": 4,
 "nbformat_minor": 5
}