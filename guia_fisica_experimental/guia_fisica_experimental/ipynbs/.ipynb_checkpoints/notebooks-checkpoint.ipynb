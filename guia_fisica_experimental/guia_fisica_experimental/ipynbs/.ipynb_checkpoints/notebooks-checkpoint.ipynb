{
 "cells": [
  {
   "cell_type": "markdown",
   "metadata": {},
   "source": [
    "# Notebooks con problemas\n",
    "\n"
   ]
  },
  {
   "cell_type": "markdown",
   "metadata": {},
   "source": [
    "## RESUELTO: Importar scipy\n",
    "\n",
    "**No hice nada, solamente lo corrí nuevamente un par de días después y funcionó.**\n",
    "\n",
    "Este corresponde al ejemplo de la {numref}`sec-densidadProb`. En \"Live Code\" el programa `thebe` no encuentra la librería `scipy` arrojando un error. La solución actual es no usar `scipy`.\n"
   ]
  },
  {
   "cell_type": "code",
   "execution_count": 2,
   "metadata": {},
   "outputs": [
    {
     "data": {
      "image/png": "[encoded data removed]",
      "text/plain": [
       "<Figure size 432x288 with 1 Axes>"
      ]
     },
     "metadata": {
      "needs_background": "light"
     },
     "output_type": "display_data"
    }
   ],
   "source": [
    "## VERSIÓN CON SCIPY ##\n",
    "\n",
    "#### Valores a cambiar ###\n",
    "##########################\n",
    "N = 100    # Tamaño muestra\n",
    "M = 10      # Número de intervalos\n",
    "##########################\n",
    "\n",
    "import numpy as np\n",
    "import pylab as plt\n",
    "from scipy.stats import norm\n",
    "plt.rcParams.update({'font.size': 16})\n",
    "\n",
    "np.random.seed(0)\n",
    "conjunto = np.random.normal(loc=0,scale=1,size=N)\n",
    "infoHist = plt.hist(conjunto,bins=M,density=True,align='left',\n",
    "                   color='silver')\n",
    "x = np.linspace(-5,5,100)\n",
    "plt.plot(x,norm.pdf(x,loc=0,scale=1),color='r',label=r'$f(x)$')\n",
    "plt.title(r'N = {}, M = {}'.format(N,M))\n",
    "plt.xlabel(r'$x_i$')\n",
    "plt.ylabel(r'$f_i$')\n",
    "plt.legend()\n",
    "plt.show()"
   ]
  },
  {
   "cell_type": "markdown",
   "metadata": {},
   "source": [
    "## Usar widgets\n",
    "\n",
    "El ejemplo de `thebe` para el uso de widgets no está funcionando en `jupyter-book`."
   ]
  },
  {
   "cell_type": "markdown",
   "metadata": {},
   "source": [
    "<pre data-executable=\"true\" data-language=\"python\">\n",
    "\n",
    "%matplotlib widget\n",
    "import ipywidgets as widgets\n",
    "import matplotlib.pyplot as plt\n",
    "import numpy as np\n",
    "\n",
    "x = np.linspace(0,10)\n",
    "\n",
    "def sine_func(x, w, amp):\n",
    "    return amp*np.sin(w*x)\n",
    "\n",
    "@widgets.interact(w=(0, 4, 0.25), amp=(0, 4, .1))\n",
    "def update(w = 1, amp = 1):\n",
    "    plt.clf()\n",
    "    plt.ylim(-4, 4)\n",
    "    plt.plot(x, sine_func(x, w, amp))\n",
    "\n",
    "</pre>"
   ]
  },
  {
   "cell_type": "markdown",
   "metadata": {},
   "source": [
    "## Problema con distribución uniforme de scipy\n",
    "\n",
    "No predice correctamente, solo funciona en el intervalo 0 a 1."
   ]
  },
  {
   "cell_type": "code",
   "execution_count": null,
   "metadata": {},
   "outputs": [],
   "source": []
  }
 ],
 "metadata": {
  "kernelspec": {
   "display_name": "Python 3 (ipykernel)",
   "language": "python",
   "name": "python3"
  },
  "language_info": {
   "codemirror_mode": {
    "name": "ipython",
    "version": 3
   },
   "file_extension": ".py",
   "mimetype": "text/x-python",
   "name": "python",
   "nbconvert_exporter": "python",
   "pygments_lexer": "ipython3",
   "version": "3.10.4"
  },
  "widgets": {
   "application/vnd.jupyter.widget-state+json": {
    "state": {},
    "version_major": 2,
    "version_minor": 0
   }
  }
 },
 "nbformat": 4,
 "nbformat_minor": 4
}
