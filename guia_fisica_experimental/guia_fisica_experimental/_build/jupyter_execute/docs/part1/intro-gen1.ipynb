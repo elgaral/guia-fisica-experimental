{
 "cells": [
  {
   "cell_type": "markdown",
   "id": "935915da",
   "metadata": {},
   "source": [
    "(sec-generalidades)=\n",
    "# Generalidades\n",
    "\n",
    "```{figure} imagenes/introGen.jpg\n",
    ":figclass: margin\n",
    "```\n",
    "\n",
    "En la experimentación, la investigación, y en general, en la comunicación con \"pares\"[^pares], es de suma importancia manejar el mismo lenguaje con el fin de lograr comunicar las ideas y resultados experimentales obtenidos de forma efectiva. Por esta razón el volumen 1 comienza con una serie de conceptos que permitirán una comunicación clara y sin ambiguedades con nuestros \"pares\". Para lograrlo se darán las pautas para el reporte correcto de una cantidad física y sus unidades, usando las normas aceptadas por las instituciones internacionales que manejan los patrones de comparación de las cantidades físicas.\n",
    "\n",
    "[^pares]: Personas de conocimientos y formación similares.\n",
    "\n",
    "El contenido de este capítulo será:\n",
    "\n",
    "```{tableofcontents}\n",
    "```"
   ]
  }
 ],
 "metadata": {
  "jupytext": {
   "text_representation": {
    "extension": ".md",
    "format_name": "myst",
    "format_version": 0.13,
    "jupytext_version": "1.14.0"
   }
  },
  "kernelspec": {
   "display_name": "Python 3 (ipykernel)",
   "language": "python",
   "name": "python3"
  },
  "source_map": [
   12
  ]
 },
 "nbformat": 4,
 "nbformat_minor": 5
}