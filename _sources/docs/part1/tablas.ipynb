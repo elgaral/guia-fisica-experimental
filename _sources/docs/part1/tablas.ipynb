{
 "cells": [
  {
   "cell_type": "markdown",
   "id": "89841826",
   "metadata": {},
   "source": [
    "(sec-tablas)=\n",
    "# Recopilación de datos experimentales: tablas\n",
    "\n",
    "Usualmente los datos experimentales se presentan en la forma de números por lo que su almacenamiento en forma de tablas permite mantener un orden y evita la pérdida de la información allí contenida. En la mayoría de los casos [^caso] se tienen parejas de datos donde el primer valor corresponde a la variable controlada por el experimentador, o variable independiente, y el segundo valor corresponde a la variable medida o variable dependiente. Aunque no es una regla estricta, las parejas se suelen presentar en filas con dos columnas, cada una correspodiente a una de las variables. En la primera fila se debe poner el nombre de la variable, sus unidades, y un prefijo a las unidades si esto hace más fácil la lectura de los datos. En la parte superior[^lugar] de la tabla se debe poner el número de la tabla y una leyenda que explique su contenido. Usualmente, si todos los valores tienen la misma incertidumbre esta se suele presentar en la leyenda. No obstante, la regla general es que la tabla contenga toda la información y sea lo más fácil de leer posible.\n",
    "\n",
    "[^lugar]: También puede ser en la parte inferior. Se usa en la parte superior porque en ocasiones las tablas son muy extensas y ocupan varias páginas.\n",
    "\n",
    "(subsec-ejemploBola1)=\n",
    "## Ejemplo: bola rodando (parte 1)[^ejemplo]\n",
    "Se deja caer una bola de cristal por una rampa para que ruede sobre un piso de caucho. Se observa que la bola finalmente se detiene a cierta distancia. La pregunta que se formula el investigador es ¿cuál es el valor de la desaceleración de la bola cuando rueda sobre el caucho?. Para averiguarlo mide para diferentes tiempos la posición de la bola a medida que se desplaza sobre la superficie de caucho. Los datos recopilados los presenta en la siguiente tabla:\n",
    "\n",
    "```{list-table} Posición de la bola en función  del tiempo. El tiempo se mide con una resolución de una centésima de segundo por lo que se considera con una incertidumbre de $\\pm 0.01 \\ \\text{s}$. Las posiciones hasta el tiempo correspondiente a $2.68 \\ \\text{s}$ tienen una incertidumbre de $1 \\ \\text{cm}$. Para tiempos superiores la incertidumbre en la posición es de $2 \\ \\text{cm}$.\n",
    ":header-rows: 1\n",
    ":name: tabla-bola\n",
    "* - Tiempo/s\n",
    "  - Posición/cm\n",
    "* - 2.32\n",
    "  - 10\n",
    "* - 2.48\n",
    "  - 21\n",
    "* - 2.58\n",
    "  - 27\n",
    "* - 2.68\n",
    "  - 34\n",
    "* - 2.79\n",
    "  - 40\n",
    "* - 2.88\n",
    "  - 47\n",
    "* - 3.02\n",
    "  - 55\n",
    "* - 3.29\n",
    "  - 69\n",
    "* - 3.43\n",
    "  - 78\n",
    "* - 3.58\n",
    "  - 85\n",
    "* - 3.77\n",
    "  - 93\n",
    "```\n",
    "\n",
    "[^caso]: Una excepción es cuando se tabulan datos de un conteo como por ejemplo los datos de la {numref}`tabla-tiemp-caida`.\n",
    "\n",
    "[^ejemplo]: Las otras partes del problema están en la {numref}`subsec-ejemploBola2`, {numref}`subsec-ejemploBola3` y {numref}`subsec-ejemploBola4`.\n",
    "\n",
    "\n",
    "```{seealso}\n",
    "Más información sobre tablas se puede encontrar en el capítulo dos de {cite}`Mahecha2009`, o en la sección 2.1.1 de {cite}`Thompson2008`.\n",
    "```"
   ]
  }
 ],
 "metadata": {
  "jupytext": {
   "text_representation": {
    "extension": ".md",
    "format_name": "myst",
    "format_version": 0.13,
    "jupytext_version": "1.14.0"
   }
  },
  "kernelspec": {
   "display_name": "Python 3 (ipykernel)",
   "language": "python",
   "name": "python3"
  },
  "source_map": [
   12
  ]
 },
 "nbformat": 4,
 "nbformat_minor": 5
}