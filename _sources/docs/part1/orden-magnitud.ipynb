{
 "cells": [
  {
   "cell_type": "markdown",
   "id": "06f17011",
   "metadata": {},
   "source": [
    "(sec-escalas)=\n",
    "\n",
    "# Órdenes de magnitud, potencias de 10 y escala de decibeles\n",
    "\n",
    "En la vida cotidiana se recurre con frecuencia a la expresión de una medida con \"diferentes\" unidades con el fin de facilitar la comprensión por parte del interlocutor. Es así como, para hablar de la altura de una persona se suele usar la unidad **metros**, mientras que para hablar de la distancia entre ciudades se prefiere usar **kilómetros**. También es común referirse al ruido en la escala de **decibeles** y no en alguna unidad de energía. Para facilitar la comprensión del lenguaje que se usará en este texto, y que se usa de forma generalizada en las ciencias, en esta sección se presenta el significado de orden de magnitud, prefijo de potencias de 10 y la escala de decibeles.\n",
    "\n",
    "Dado que en los textos será usual encontrar este tipo de nomenclaturas {cite}`Hughes2010,Squires2001`, para facilitar la comprensión en esta sección se hablará de órden de magnitud y escalas.\n",
    "\n",
    "`````{admonition} Precaución\n",
    ":class: warning\n",
    "La palabra \"diferentes\" se escribió entre comillas porque realmente se está hablando de la misma unidad de medida, pero con la diferencia de que viene acompañada de un prefijo que indica que el valor numérico se debe multiplicar por una cierta potencia de 10. Por ejemplo, $1 \\ \\text{km}$ significa $1000$ metros. Aquí, la unidad de medida metro, con símbolo $\\text{m}$, está acompañada del prefijo $\\text{k}$, que significa $1000$, con lo cual se habla de mil metros.\n",
    "`````"
   ]
  },
  {
   "cell_type": "markdown",
   "id": "c1696f2a",
   "metadata": {},
   "source": [
    "(subsec-orden)=\n",
    "\n",
    "## Potencias de 10 y órden de magnitud\n",
    "\n",
    "Supongamos que se quiere comparar la altura de los siguientes objetos: una hormiga, un colibrí, una persona, y una jirafa. La altura promedio de cada uno en la unidad de longitud metro es:\n",
    "- Hormiga = $0.003\\,4 \\ \\text{m}$\n",
    "- Colibrí = $0.11 \\ \\text{m}$\n",
    "- Persona = $1.75 \\ \\text{m}$\n",
    "- Jirafa = $5 \\ \\text{m}$\n",
    "\n",
    "Para facilitar la comparación de las diferentes alturas, se escriben como múltiplos de **potencias de 10**, que también se conoce como **notación científica**, de modo tal que la primera cifra sea un entero correspondiente a las \"unidades\"[^unidades]:\n",
    "\n",
    "[^unidades]: Aquí \"unidades\" se refiere al valor posicional del número. En este sentido, una \"decena\" son 10 unidades, y una \"centena\" son 100 unidades.\n",
    "\n",
    "- Hormiga = $3.4\\times 10^{-3}$ $\\text{m}$\n",
    "- Colibrí = $1.1\\times 10^{-1}$ $\\text{m}$\n",
    "- Persona = $1.75\\times 10^0$ $\\text{m}$\n",
    "- Jirafa = $5\\times 10^0$ $\\text{m}$\n",
    "\n",
    "Se llamará **orden de magnitud** a la diferencia entre los exponentes de las potencias de 10. Entonces, la hormiga tiene una altura dos órdenes de magnitud inferior al colibrí, y tres órdenes de magnitud inferior a una persona. La jirafa, por su parte, tiene una altura del mismo orden de magnitud que una persona, y es un orden de magnitud superior a la altura del colibrí.\n",
    "\n",
    "```{admonition} Nota\n",
    "Identificar el orden de magnitud del problema físico que se esté resolviendo es de vital importancia, pues como verán a lo largo de sus carreras, el orden de magnitud definirá el modelo teórico más acertado para describir el fenómeno, así como la técnica de medida que se deberá utilizar.\n",
    "```"
   ]
  },
  {
   "cell_type": "markdown",
   "id": "53e2e654",
   "metadata": {},
   "source": [
    "(subsec-prefijo)=\n",
    "\n",
    "## Prefijo de las potencias de 10\n",
    "Si se pretendiera indicar la distancia entre la ciudad de Medellín y la ciudad de Bogotá en la unidad de longitud **metros**, se tendría que escribir:\n",
    "\n",
    "$$246 \\ 000 \\ \\text{m}$$\n",
    "\n",
    "Dado que la información significativa está en las tres primeras cifras, $246$, una ópción más compacta para escribir esta distancia puede ser:\n",
    "\n",
    "$$ 246\\times 10^3 \\ \\text{m} $$\n",
    "\n",
    "De hecho, si le ponemos un nombre, kilo, y le asignamos un símbolo, k, a la cifra, $10^3$, que como podemos ver es la potencia tres de diez, entonces nuestra distancia quedaría escrita en forma compacta como:\n",
    "\n",
    "$$ 246 \\ \\text{km} $$\n",
    "\n",
    "que se lee como doscientos cuarenta y seis **kilómetros**[^plural].\n",
    "\n",
    "[^plural]: El nombre de la unidad debe respetar la pronunciación en plural de la gramática. Al respecto mirar [Capítulo 9 de {cite}`thomson2008guide`](https://www.nist.gov/pml/special-publication-811/nist-guide-si-chapter-9-rules-and-style-conventions-spelling-unit-names).\n",
    "\n",
    "Esto es incluso más útil cuando la longitud a reportar está en una escala muy diferente a la escala de **metro**. Por ejemplo si se va a reportar el diámetro de un cabello humano fino, se tendría que escribir:\n",
    "\n",
    "$$ 0.000 \\ 015 \\ \\text{m} .$$\n",
    "\n",
    "Pero, este diámetro se puede escribir también como:\n",
    "\n",
    "$$ 15 \\times 10^{-6} \\, \\text{m} ,$$\n",
    "\n",
    "y nombrando a la potencia $10^{-6}$ como micra, con símbolo $\\mu$, el díametro del cabello se reporta de forma compacta como:\n",
    "\n",
    "$$ 15 \\, \\mu\\text{m} ,$$\n",
    "\n",
    "que se lee como quince micrómetros[^micra].\n",
    "\n",
    "[^micra]: *micrómetro* es tan usado que será normal que también lo llamen *micra*. Para el ejemplo del cabello se leería quince micras.\n",
    "\n",
    "```{admonition} Nota\n",
    "Aunque en el ejemplo se usó la unidad de longitud metro, los prefijos que simbolizan potencias de diez se pueden usar con cualquier otra unidad de medida.\n",
    "```\n",
    "\n",
    "Es notorio que no sólo visualmente, sino también auditivamente, es mejor usar los prefijos o símbolos para lograr una mayor claridad. Eso si, es necesesario conocer el significado de cada uno. A continuación presentamos en la {numref}`prefijos-SI` los más comunes.\n",
    "\n",
    "```{list-table} Tabla prefijos.\n",
    ":header-rows: 1\n",
    ":name: prefijos-SI\n",
    "* - Nombre\n",
    "  - Símbolo\n",
    "  - Potencia 10\n",
    "* - mega\n",
    "  - M\n",
    "  - 6\n",
    "* - kilo\n",
    "  - k\n",
    "  - 3\n",
    "* - hecto\n",
    "  - h\n",
    "  - 2\n",
    "* - deca\n",
    "  - da\n",
    "  - 1\n",
    "* -\n",
    "  -\n",
    "  - 0\n",
    "* - deci\n",
    "  - d\n",
    "  - -1\n",
    "* - centi\n",
    "  - c\n",
    "  - -2\n",
    "* - mili\n",
    "  - m\n",
    "  - -3\n",
    "* - micro\n",
    "  - $\\mu$\n",
    "  - -6\n",
    "```\n",
    "\n",
    "```{note}\n",
    "Una tabla más completa se puede encontrar en la tabla 5.1 de {cite}`Hughes2010` o en [Wikipedia](https://en.wikipedia.org/wiki/Metric_prefix).\n",
    "```"
   ]
  },
  {
   "cell_type": "markdown",
   "id": "889ff58c",
   "metadata": {},
   "source": [
    "(subsec-decibeles)=\n",
    "\n",
    "## Escala de decibeles\n",
    "En la {numref}`subsec-orden` se presentó una forma de expresar la razón entre dos cantidades. Otra forma común de hacerlo es a través del logaritmo en base diez de la razón de las cantidades físicas a comparar, cuya unidad adimensional se denomina **decibel**[^dB] y se expresa con el símbolo $\\text{dB}$. Se define entonces la razón de potencia $L_p$ entre dos cantidades físicas, en decibeles, como\n",
    "\n",
    "$$ L_p = 10\\log_{10} \\bigg(\\frac{I}{I_0}\\bigg) \\ \\text{dB} $$ (ec-decibel)\n",
    "\n",
    "donde $I$ es la cantidad física, y $I_0$ es la cantidad física con respecto a la cual se compara, como se muestra en la ecuación {eq}`ec-decibel`. Es deseable siempre indicar el valor de la cantidad de referencia. Definiciones más precisas se pueden encontrar en la sección 8.7 de {cite}`Thompson2008`.\n",
    "\n",
    "Por ejemplo, al comparar el sonido que produce una máquina con respecto a un sonido apenas perceptible por un ser humano, si el sonido de la máquina es de $60 \\ \\text{dB}$, quiere decir que la razón entre las intensidades del sonido generado por la máquina y del sonido de comparación es de $10^{6}$, es decir, la intensidad del sonido de la máquina es seis órdenes de magnitud superior a la intensidad del sonido apenas perceptible, es seis millones de veces más intenso. A continuación se presenta un código sencillo que permitirá calcular distintas razones en función de los decibeles.\n",
    "\n",
    "[^dB]: Más sobre decibeles en la enciclopedia británica: <https://www.britannica.com/science/decibel>"
   ]
  },
  {
   "cell_type": "code",
   "execution_count": 1,
   "id": "a50df4af",
   "metadata": {},
   "outputs": [
    {
     "name": "stdout",
     "output_type": "stream",
     "text": [
      "Para un sonido de 60.00 dB la razón entre las intensidades es 1.00e+06\n"
     ]
    }
   ],
   "source": [
    "###########################\n",
    "dB = 60 # intensidad den dB\n",
    "###########################\n",
    "\n",
    "Ir = 10**(dB/10)\n",
    "print('Para un sonido de %.2f dB la razón entre las intensidades es %.2e'%(dB,Ir))"
   ]
  },
  {
   "cell_type": "markdown",
   "id": "4d8034d0",
   "metadata": {},
   "source": [
    "```{warning}\n",
    "No existe una única definición de decibel, por lo que se recomienda verificar la definición que se está usando para la cantidad física en particular.\n",
    "```"
   ]
  },
  {
   "cell_type": "code",
   "execution_count": null,
   "id": "c2a844f7",
   "metadata": {},
   "outputs": [],
   "source": []
  }
 ],
 "metadata": {
  "jupytext": {
   "text_representation": {
    "extension": ".md",
    "format_name": "myst",
    "format_version": 0.13,
    "jupytext_version": "1.14.0"
   }
  },
  "kernelspec": {
   "display_name": "Python 3 (ipykernel)",
   "language": "python",
   "name": "python3"
  },
  "language_info": {
   "codemirror_mode": {
    "name": "ipython",
    "version": 3
   },
   "file_extension": ".py",
   "mimetype": "text/x-python",
   "name": "python",
   "nbconvert_exporter": "python",
   "pygments_lexer": "ipython3",
   "version": "3.9.16"
  },
  "source_map": [
   12,
   27,
   54,
   136,
   151,
   158,
   164
  ]
 },
 "nbformat": 4,
 "nbformat_minor": 5
}