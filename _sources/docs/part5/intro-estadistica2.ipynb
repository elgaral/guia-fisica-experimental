{
 "cells": [
  {
   "cell_type": "markdown",
   "id": "20695c6c",
   "metadata": {},
   "source": [
    "# Conceptos de estadística para el análisis de la incertidumbre aleatoria\n",
    "\n",
    "```{figure} imagenes/normal.gif\n",
    ":figclass: margin\n",
    "```\n",
    "\n",
    "En la {numref}`sec-EstadisticaBasico` se presentaron los conceptos y definiciones más básicos de estadística de nuestro interés. En esta sección se retomarán las definiciones básicas, ahora usando la herramienta matemática del cálculo. Esto permitirá más adelante realizar la conexión directa entre la estadística y el tratamiento de la incertidumbre, que es generada por las fluctuaciones aleatorias en las cantidades medidas. Con este propósito se estudiarán también las distribuciones, normal y de Poisson[^poisson], que servirán para describir matemáticamente las incertidumbres aleatorias.\n",
    "\n",
    "[^poisson]: La forma correcta de pronunciar \"Poisson\" es [pwasɔ̃]. En el siguiente enlace puede escuchar la pronunciación: [POISSON](https://www.wordreference.com/fres/Poisson).\n",
    "\n",
    "El contenido de este capítulo es:\n",
    "\n",
    "```{tableofcontents}\n",
    "```"
   ]
  }
 ],
 "metadata": {
  "jupytext": {
   "text_representation": {
    "extension": ".md",
    "format_name": "myst",
    "format_version": 0.13,
    "jupytext_version": "1.14.0"
   }
  },
  "kernelspec": {
   "display_name": "Python 3 (ipykernel)",
   "language": "python",
   "name": "python3"
  },
  "source_map": [
   12
  ]
 },
 "nbformat": 4,
 "nbformat_minor": 5
}