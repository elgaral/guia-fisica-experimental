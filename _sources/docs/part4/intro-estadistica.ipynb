{
 "cells": [
  {
   "cell_type": "markdown",
   "id": "b278cbf2",
   "metadata": {},
   "source": [
    "(sec-estadistica)=\n",
    "# Conceptos básicos de estadística\n",
    "\n",
    "```{figure} imagenes/binHisto.png\n",
    ":figclass: margin\n",
    "```\n",
    "\n",
    "Una de las constantes que se encontrarán en el desarrollo de los experimentos es la gran cantidad de medidas, de una cantidad física, que se deben realizar con el fin de poder hacer un correcto análisis experimental. La razón primordial para realizar una gran cantidad de medidas son las posibles fluctuaciones en los valores medidos, aún cuando se esperaría que el valor de todas las medidas fuera el mismo. Estas fluctuaciones son aleatorias, es decir, no se tiene ningún control sobre estas variaciones y tampoco se puede predecir el valor que saldrá  en una medida a partir de las medidas anteriores. No obstante, los valores medidos tendrán la característica de fluctuar alrededor de un valor particular (que no necesariamente ha salido en alguna de las medidas), y en general, todas las medidas estarán concentradas alrededor de este valor particular, encontrando sólo en raras ocasiones valores que se alejan significativamente. Todas estas razones hacen de la estadística una rama de la ciencia preponderante en la experimentación y en el análisis de la incertidumbre experimental. Por tal motivo, en este capítulo se presentan los conceptos más básicos de la estadística, desde la perspectiva de interés del curso, necesarias para poder manipular y analizar los datos experimentales, y finalmente, poder sacar conclusiones relevantes del experimento[^libro].\n",
    "\n",
    "[^libro]: El lector que esté interesado en un estudio más riguroso de la estadística puede consultar, por ejemplo, el libro de Gorgas, Cardiel y Zamorano {cite}`GorgasGarcia2011`.\n",
    "\n",
    "El contenido de este capítulo será:\n",
    "\n",
    "```{tableofcontents}\n",
    "```"
   ]
  }
 ],
 "metadata": {
  "jupytext": {
   "text_representation": {
    "extension": ".md",
    "format_name": "myst",
    "format_version": 0.13,
    "jupytext_version": "1.14.0"
   }
  },
  "kernelspec": {
   "display_name": "Python 3 (ipykernel)",
   "language": "python",
   "name": "python3"
  },
  "source_map": [
   12
  ]
 },
 "nbformat": 4,
 "nbformat_minor": 5
}