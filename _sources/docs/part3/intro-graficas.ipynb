{
 "cells": [
  {
   "cell_type": "markdown",
   "id": "d561e651",
   "metadata": {},
   "source": [
    "(sec-CreaGraf)=\n",
    "# Graficación de datos\n",
    "\n",
    "```{figure} imagenes/bola4.png\n",
    ":figclass: margin\n",
    "```\n",
    "\n",
    "\n",
    "En todas las áreas de la ciencia en algún momento será necesario realizar experimentos en los cuales se recopila información en forma de datos. Para poder hacer uso de los datos, y así poder inferir o encontrar por ejemplo, tendencias, proporciones, o comportamientos, es necesario tabular y en la medida de lo posible, graficar los datos en función de la variable conocida y la variable medida. En esta sección se presentarán los lineamientos básicos para una graficación correcta de datos. \n",
    "\n",
    "El contenido que se tiene para este capítulo es:\n",
    "\n",
    "```{tableofcontents}\n",
    "```"
   ]
  }
 ],
 "metadata": {
  "jupytext": {
   "text_representation": {
    "extension": ".md",
    "format_name": "myst",
    "format_version": 0.13,
    "jupytext_version": "1.14.0"
   }
  },
  "kernelspec": {
   "display_name": "Python 3 (ipykernel)",
   "language": "python",
   "name": "python3"
  },
  "source_map": [
   12
  ]
 },
 "nbformat": 4,
 "nbformat_minor": 5
}