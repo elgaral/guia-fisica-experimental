{
 "cells": [
  {
   "cell_type": "markdown",
   "id": "da3fcfb4",
   "metadata": {},
   "source": [
    "(sec-topicos-error)=\n",
    "# Tópicos complementarios sobre análisis de la incertidumbre\n",
    "\n",
    "\n",
    "```{figure} imagenes/campoB.svg\n",
    ":figclass: margin\n",
    "```\n",
    "\n",
    "En las secciones anteriores se aprendió a determinar la incertidumbre de un mensurando a partir de una distribución de datos medidos experimentalmente, se desarrollaron métodos para determinar como la incertidumbre de variables directas se propaga en las variables indirectas, y se definió una forma para poder comparar dos valores, al menos uno de ellos con incertidumbre, con el objetivo de definir si coinciden o discrepan. En esta sección se complementará lo estudiado anteriormente con una técnica para decidir si alguno de los valores de la distribución de datos experimentales se puede considerar como un valor descartable, se definirán criterios para decidir cuáles incertidumbres se pueden considerar despreciables, y se presentará la forma de combinar resultados que tienen incertidumbre.\n",
    "El contenido de la sección sera:\n",
    "\n",
    "```{tableofcontents}\n",
    "```"
   ]
  }
 ],
 "metadata": {
  "jupytext": {
   "text_representation": {
    "extension": ".md",
    "format_name": "myst",
    "format_version": 0.13,
    "jupytext_version": "1.14.0"
   }
  },
  "kernelspec": {
   "display_name": "Python 3 (ipykernel)",
   "language": "python",
   "name": "python3"
  },
  "source_map": [
   12
  ]
 },
 "nbformat": 4,
 "nbformat_minor": 5
}