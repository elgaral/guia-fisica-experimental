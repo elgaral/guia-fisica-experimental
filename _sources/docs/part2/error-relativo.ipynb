{
 "cells": [
  {
   "cell_type": "markdown",
   "id": "f74dc1ef",
   "metadata": {},
   "source": [
    "(sec-errorRelativo)=\n",
    "\n",
    "# Incertidumbre relativa\n",
    "\n",
    "En la {numref}`subsec-notacionIncertidumbre` se definió la estructura para reportar una cantidad física como $ X = x_{mejor} \\pm \\alpha_x$, donde la cantidad $\\alpha_x$ se refería a la incertidumbre que se tiene de la medida, o incertidumbre absoluta. No obstante, esta cantidad no necesariamente indica si la medida fue precisa o no, es decir, si está más cerca de la realidad o no. Por ejemplo se pueden tener las siguientes dos medidas hechas con una regla:\n",
    "\n",
    "1. $L = (970.0 \\pm 0.5) \\,\\text{mm}$\n",
    "2. $L = (1.0 \\pm 0.5) \\,\\text{mm}$\n",
    "\n",
    "Aunque para ambas medidas la incertidumbre es la misma, es claro que la primera medida es mucho más precisa que la segunda. Una forma más clara de expresar lo anterior es a través de la incertidumbre relativa, que también se le conoce como incertidumbre fraccional o precisión, y que se puede expresar en forma de porcentaje. La incertidumbre relativa será:\n",
    "\n",
    "$$ \\frac{\\alpha_x}{|x_{mejor}|},$$\n",
    "\n",
    "y en términos de porcentaje,\n",
    "\n",
    "$$100\\times \\frac{\\alpha_x}{|x_{mejor}|} \\,\\%$$\n",
    "\n",
    "Para las dos longitudes del ejemplo las incertidumbres relativas son:\n",
    "\n",
    "1. $\\frac{0.5\\,\\text{mm}}{970.0\\,\\text{mm}} = 0.000 \\,5$, o en porcentaje sería $0.05 \\,\\%$\n",
    "2. $\\frac{0.5\\,\\text{mm}}{1.0\\,\\text{mm}} = 0.5$, o en porcentaje sería $50 \\,\\%$\n",
    "\n",
    "Es claro ahora, al presentar la incertidumbre relativa, que la primera medida es muy precisa mientras que la segunda es muy imprecisa. La forma recomendada para reportar una cantidad física con incertidumbre relativa será\n",
    "\n",
    "$$ X = x_{mejor} \\pm \\alpha_x\\text{,} \\, \\text{con una incertidumbre relativa de } 100\\times \\frac{\\alpha_x}{|x_{mejor}|} \\,\\%$$\n",
    "\n",
    "y también\n",
    "\n",
    "$$ X = x_{mejor} \\,\\text{con una incertidumbre relativa de } 100\\times \\frac{\\alpha_x}{|x_{mejor}|} \\,\\%$$\n",
    "\n",
    "Para los ejemplos anteriores tenemos:\n",
    "\n",
    "1. $(970.0 \\pm 0.5)\\,\\text{mm}$, con una incertidumbre relativa de $0.05\\,\\%$.\n",
    "2. $1.0 \\,\\text{mm}$, con una incertidumbre relativa de $50\\,\\%$.\n",
    "\n",
    "En la siguiente tabla se da una guía de la catalogación de la precisión de una medida en términos de la incertidumbre relativa\n",
    "\n",
    "| Incertidumbre relativa    | Precisión    |\n",
    "| :--- | ---: |\n",
    "| <1 %    | Muy preciso    |\n",
    "| 1 % a 5 % | Preciso |\n",
    "| 5 % a 20 % | Precisión aceptable |\n",
    "| 20% a 30% | Impreciso |\n",
    "| >30 % | Muy impreciso |\n",
    "\n",
    "Finalmente, es importante anotar que la incertidumbre relativa es una cantidad adimensional. Esta particularidad es muy importante porque permite comparar las precisiones de cantidades físicas diferentes, es decir, no es posible comparar la precisión de una medida de tiempo, con una de longitud, a partir de sus respectivas incertidumbres absolutas, porque tienen dimensiones diferentes, pero si es posible comparar sus precisiones usando sus incertidumbres relativas. Por ejemplo, para las medidas:\n",
    "\n",
    "1. $L = (970.0 \\pm 0.5)\\,\\text{mm}$, con una incertidumbre relativa de $0.05\\,\\%$.\n",
    "2. $T = (0.63 \\pm 0.01)\\,\\text{s}$, con una incertidumbre relativa de $1.6\\,\\%$.\n",
    "\n",
    "No es posible comparar las incertidumbres absolutas porque una está en milímetros y la otra en segundos. No obstante, si es posible comparar sus incertidumbres relativas porque son adimensionales. De esta forma, para el ejemplo, se concluye que la medida de la longitud $L$ es más precisa que la medida del tiempo $T$, y por lo tanto, para mejorar la medición se deben usar los recursos disponibles para conseguir un cronómetro más preciso.\n",
    "\n",
    "```{seealso}\n",
    "Más sobre incertidumbre relativa se puede encontrar en la sección 4.2.6 de {cite}`Hughes2010`, y en las secciones 2.7 y 2.8 de {cite}`Taylor1996`.\n",
    "```"
   ]
  }
 ],
 "metadata": {
  "jupytext": {
   "text_representation": {
    "extension": ".md",
    "format_name": "myst",
    "format_version": 0.13,
    "jupytext_version": "1.14.0"
   }
  },
  "kernelspec": {
   "display_name": "Python 3 (ipykernel)",
   "language": "python",
   "name": "python3"
  },
  "source_map": [
   12
  ]
 },
 "nbformat": 4,
 "nbformat_minor": 5
}