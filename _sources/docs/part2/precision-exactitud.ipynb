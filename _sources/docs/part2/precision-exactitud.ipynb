{
 "cells": [
  {
   "cell_type": "markdown",
   "id": "8f3a5cad",
   "metadata": {},
   "source": [
    "(sec-precisionExactitud)=\n",
    "\n",
    "# Precision y Exactitud\n",
    "\n",
    "Cuándo se realiza una medida experimental de una cantidad física, el objetivo principal es obtener el valor exacto. Desafortunadamente, en principio, nunca se podrá obtener dicho valor exacto por dos razones básicas: la primera razón se debe a las limitantes que se tienen con la instrumentación utilizada, ya sea por un error en el uso del instrumento o por una limitante propia del instrumento. La segunda razón es el hecho de que el propio fenómeno físico corresponde a un proceso aleatorio, con una incertidumbre intrínseca en el valor de la cantidad física de interés, que no tiene que ver con el proceso particular de medición."
   ]
  },
  {
   "cell_type": "markdown",
   "id": "564727be",
   "metadata": {},
   "source": [
    "(subsec-precision)=\n",
    "\n",
    "## Precisión\n",
    "Si al hacer medidas repetitivas de una misma cantidad física los valores encontrados son diferentes, pero están agrupados alrededor de un valor promedio, se dirá que la medida es más o menos precisa dependiendo de qué tan agrupados o no estén los valores encontrados. Cómo se verá más adelante, la **precisión** estará directamente relacionada con la [**incertidumbre aleatoria**](subsec-ErrorAleatorio) y con la reproducibilidad del resultado que se obtuvo. Se puede aumentar la precisión de una medida haciendo más medidas repetitivas o usando un instrumento más preciso, es decir, de mayor resolución. Cómo se observa en la {numref}`fig-preci-exact`, tanto en (a) y (b) los datos son más precisos que en (c) y (d) porque están más agrupados."
   ]
  },
  {
   "cell_type": "code",
   "execution_count": 1,
   "id": "e75bcd93",
   "metadata": {
    "tags": [
     "remove-cell"
    ]
   },
   "outputs": [
    {
     "data": {
      "image/png": "[encoded data removed]",
      "text/plain": [
       "<Figure size 1600x300 with 4 Axes>"
      ]
     },
     "metadata": {},
     "output_type": "display_data"
    }
   ],
   "source": [
    "# Esta celda tiene el tag: remove-cell. En la próxima celda se llama como figura para poder referenciarla\n",
    "import numpy as np\n",
    "import matplotlib.pyplot as plt\n",
    "\n",
    "fig, (ax1,ax2,ax3,ax4) = plt.subplots(1,4,figsize=(16,3))\n",
    "\n",
    "data = 0.5*np.random.randn(1, 20) + 9.77\n",
    "eje = np.zeros(len(data))\n",
    "ax1.plot(data,eje,'r|')\n",
    "ax1.vlines(9.8,-0.1,0.2,'k',linestyle='--')\n",
    "ax1.set(yticklabels=[])  # remove the tick labels\n",
    "ax1.tick_params(left=False)  # remove the ticks\n",
    "ax1.set_xlabel('(a) m/s$^2$',fontsize=18)\n",
    "ax1.set_xlim(5,15)\n",
    "ax1.set_ylim(-1,1)\n",
    "\n",
    "\n",
    "data = 0.5*np.random.randn(1, 20) + 9.77 + 2\n",
    "ax2.plot(data,eje,'r|')\n",
    "ax2.vlines(9.8,-0.1,0.2,'k',linestyle='--')\n",
    "ax2.set(yticklabels=[])  # remove the tick labels\n",
    "ax2.tick_params(left=False)  # remove the ticks\n",
    "ax2.set_xlabel('(b) m/s$^2$',fontsize=18)\n",
    "ax2.set_xlim(5,15)\n",
    "ax2.set_ylim(-1,1)\n",
    "\n",
    "data = 1.5*np.random.randn(1, 20) + 9.77 + 0\n",
    "ax3.plot(data,eje,'r|')\n",
    "ax3.vlines(9.8,-0.1,0.2,'k',linestyle='--')\n",
    "ax3.set(yticklabels=[])  # remove the tick labels\n",
    "ax3.tick_params(left=False)  # remove the ticks\n",
    "ax3.set_xlabel('(c) m/s$^2$',fontsize=18)\n",
    "ax3.set_xlim(5,15)\n",
    "ax3.set_ylim(-1,1)\n",
    "\n",
    "data = 1.5*np.random.randn(1, 20) + 9.77 + 2\n",
    "ax4.plot(data,eje,'r|')\n",
    "ax4.vlines(9.8,-0.1,0.2,'k',linestyle='--')\n",
    "ax4.set(yticklabels=[])  # remove the tick labels\n",
    "ax4.tick_params(left=False)  # remove the ticks\n",
    "ax4.set_xlabel('(d) m/s$^2$',fontsize=18)\n",
    "ax4.set_xlim(5,15)\n",
    "ax4.set_ylim(-1,1)\n",
    "\n",
    "# use set_position\n",
    "ax1.spines['top'].set_color('none')\n",
    "ax1.spines['left'].set_color('none')\n",
    "ax1.spines['right'].set_color('none')\n",
    "ax1.spines['bottom'].set_position('zero')\n",
    "ax2.spines['top'].set_color('none')\n",
    "ax2.spines['left'].set_color('none')\n",
    "ax2.spines['right'].set_color('none')\n",
    "ax2.spines['bottom'].set_position('zero')\n",
    "ax3.spines['top'].set_color('none')\n",
    "ax3.spines['left'].set_color('none')\n",
    "ax3.spines['right'].set_color('none')\n",
    "ax3.spines['bottom'].set_position('zero')\n",
    "ax4.spines['top'].set_color('none')\n",
    "ax4.spines['left'].set_color('none')\n",
    "ax4.spines['right'].set_color('none')\n",
    "ax4.spines['bottom'].set_position('zero')\n",
    "\n",
    "plt.savefig('imagenes/precision-exactitud.png', bbox_inches='tight')"
   ]
  },
  {
   "cell_type": "markdown",
   "id": "470a7d5a",
   "metadata": {},
   "source": [
    "```{figure} imagenes/precision-exactitud.png\n",
    ":name: fig-preci-exact\n",
    "\n",
    "Comparación entre datos precisos y exactos en la medición de la aceleración de la gravedad. La línea negra discontinua es el valor aceptado, mientras que las líneas rojas son los valores medidos. En (a) los datos tiene gran precisión y son bastante exactos, mientras que en (b) tienen la misma precisión pero son inexactos. En (c) los datos no son muy precisos pero por lo menos no son inexactos al contener al valor real. En cambio, los datos en (d) no son precisos y además son inexactos.\n",
    "```\n",
    "\n",
    "(subsec-exactitud)=\n",
    "\n",
    "## Exactitud\n",
    "La exactitud está relacionada con el hecho de que, si bien los datos pueden tener cierta dispersión, el valor real o aceptado estará contenido dentro del rango de dispersión de los valores, y cerca del valor promedio. En caso contrario el resultado es inexacto. Cómo se verá más adelante, la **exactitud** está directamente relacionada con las [**incertidumbres sistemáticas**](subsec-ErrorSistematico) que puedan tener los valores. Es importante aclarar tres asuntos en este momento: si se habla de *valor aceptado* hay seguridad de la exactitud del resultado con referencia al valor aceptado. Si se habla de *valor real*, este siempre será desconocido y solo es posible hablar de exactitud en caso de encontrar y eliminar algún error sistemático. Finalmente, si los datos están muy dispersos (poca precisión), aún si el valor real o aceptado está dentro del rango de datos, no tiene ningún sentido hablar de exactitud. En la {numref}`fig-preci-exact` se puede notar que los datos en (b) y (d) no se agrupan en torno al valor esperado por lo quen son inexactos, mientras que los datos en (a) y (c) al agruparse en torno al valor esperado se pueden considerar más exactos."
   ]
  },
  {
   "cell_type": "markdown",
   "id": "14c849e6",
   "metadata": {},
   "source": [
    "(subsec-EjemploErrores)=\n",
    "## Ejemplo interactivo: caida libre\n",
    "\n",
    "El siguiente ejemplo simula unos datos experimentales del tiempo de caída libre de un objeto cuando es lanzado desde una altura $h$ de $2$ metros. Tomando como valor aceptado para la aceleración de la gravedad $g = 9.77 \\ \\text{m s}^{-2}$ y usando la fórmula $t = \\sqrt{h/g}$, el valor aceptado de tiempo de caída será $0.6398 \\ \\text{s}$. Suponiendo que las medidas con un cronómetro tendrán una dispersión debida a los errores aleatorios, controlada con el parámetro `sigma`, y un error en el valor inicial de tiempo debido a un error sistemático, dado por el parámetro `dt`. Siendo `N` el número de lanzamientos hechos modifique estos valores y corrobore los conceptos de precisión y exactitud."
   ]
  },
  {
   "cell_type": "code",
   "execution_count": 2,
   "id": "90bff1f9",
   "metadata": {
    "tags": [
     "hide-input"
    ]
   },
   "outputs": [],
   "source": [
    "import numpy as np\n",
    "import matplotlib.pyplot as plt\n",
    "\n",
    "def legend_without_duplicate_labels(ax):\n",
    "    handles, labels = ax.get_legend_handles_labels()\n",
    "    unique = [(h, l) for i, (h, l) in enumerate(zip(handles, labels)) if l not in labels[:i]]\n",
    "    ax.legend(*zip(*unique))\n",
    "\n",
    "def graf1(data):\n",
    "    central = np.mean(data)\n",
    "    eje = np.zeros(len(data))\n",
    "    fig , ax1 = plt.subplots(figsize=(8,3))\n",
    "    ax1.plot(data,eje,'r|',ms= 10,label='Datos')\n",
    "    ax1.vlines(0.6398,-0.15,0.3,'k',linestyle='--',label='Valor aceptado')\n",
    "    ax1.vlines(central,-0.1,0.2,'b',linestyle='-.',label='Valor central')\n",
    "    ax1.set(yticklabels=[])  # remove the tick labels\n",
    "    ax1.tick_params(left=False)  # remove the ticks\n",
    "    ax1.set_xlabel('tiempo/s',fontsize=18)\n",
    "    ax1.set_xlim(0.1,1.1)\n",
    "    ax1.set_ylim(-1,1)\n",
    "    legend_without_duplicate_labels(ax1)\n",
    "    # use set_position\n",
    "    ax1.spines['top'].set_color('none')\n",
    "    ax1.spines['left'].set_color('none')\n",
    "    ax1.spines['right'].set_color('none')\n",
    "    ax1.spines['bottom'].set_position('zero')"
   ]
  },
  {
   "cell_type": "markdown",
   "id": "15385e02",
   "metadata": {},
   "source": [
    "```{warning}\n",
    "Active el `Live Code` en la parte de arriba de la página.\n",
    "\n",
    "La primera vez debe presionar el botón `restart & run all`. Posteriormente puede teclear `Shift+Enter` o presionar el botón `run`.\n",
    "```"
   ]
  },
  {
   "cell_type": "code",
   "execution_count": 3,
   "id": "18804209",
   "metadata": {},
   "outputs": [
    {
     "data": {
      "image/png": "[encoded data removed]",
      "text/plain": [
       "<Figure size 800x300 with 1 Axes>"
      ]
     },
     "metadata": {},
     "output_type": "display_data"
    }
   ],
   "source": [
    "# Modifique los valores N, sigma y dt, y corra el programa\n",
    "################\n",
    "N = 9\n",
    "sigma = 0.1\n",
    "dt = 0.05\n",
    "################\n",
    "\n",
    "data = sigma*np.random.randn(1,N) + 0.6398 + dt\n",
    "\n",
    "graf1(data)"
   ]
  },
  {
   "cell_type": "markdown",
   "id": "6a98dbb3",
   "metadata": {},
   "source": [
    "```{admonition} Pregunta: si su experimento tiene un error sistemático, ¿cuál es el problema de mejorar la precisión indefinidamente?\n",
    ":class: dropdown\n",
    "\n",
    "El problema está en que los errores aleatorios serán inferiores al error sistemático y por lo tanto el resultado pasará de ser exacto a ser inexacto.\n",
    "```"
   ]
  },
  {
   "cell_type": "markdown",
   "id": "fedb41e4",
   "metadata": {},
   "source": [
    "```{seealso}\n",
    "Más sobre los temas de precisión y exactitud se puede encontrar en la sección 1.2.1 de {cite}`Hughes2010`, en la sección 4.1 y pág. 18 de {cite}`Taylor1996`, y en la sección 1.1 de {cite}`Bevington`.\n",
    "```"
   ]
  }
 ],
 "metadata": {
  "jupytext": {
   "text_representation": {
    "extension": ".md",
    "format_name": "myst",
    "format_version": 0.13,
    "jupytext_version": "1.14.0"
   }
  },
  "kernelspec": {
   "display_name": "Python 3 (ipykernel)",
   "language": "python",
   "name": "python3"
  },
  "language_info": {
   "codemirror_mode": {
    "name": "ipython",
    "version": 3
   },
   "file_extension": ".py",
   "mimetype": "text/x-python",
   "name": "python",
   "nbconvert_exporter": "python",
   "pygments_lexer": "ipython3",
   "version": "3.9.16"
  },
  "source_map": [
   12,
   20,
   27,
   93,
   106,
   113,
   142,
   150,
   161,
   169
  ]
 },
 "nbformat": 4,
 "nbformat_minor": 5
}